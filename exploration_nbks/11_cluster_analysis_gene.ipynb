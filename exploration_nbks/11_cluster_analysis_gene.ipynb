{
 "cells": [
  {
   "cell_type": "markdown",
   "id": "ea1506ed-3354-4ccd-b455-1355d00d6d32",
   "metadata": {},
   "source": [
    "## Code to perform cluster analysis for GENE data in DB \n",
    "March 17, 2025"
   ]
  },
  {
   "cell_type": "code",
   "execution_count": 35,
   "id": "4f1efd99-9986-4ed7-8b99-9c47c90b8419",
   "metadata": {},
   "outputs": [],
   "source": [
    "import numpy as np\n",
    "import matplotlib.pyplot as plt\n",
    "import sys\n",
    "import pandas as pd \n",
    "import itertools"
   ]
  },
  {
   "cell_type": "code",
   "execution_count": 44,
   "id": "faf40ca8-ae06-4bf6-b75e-c650a05260b5",
   "metadata": {},
   "outputs": [],
   "source": [
    "from ipywidgets import *\n",
    "%matplotlib widget"
   ]
  },
  {
   "cell_type": "code",
   "execution_count": 2,
   "id": "f340c1f5-7873-4cc0-b9a1-1262cd4a956e",
   "metadata": {},
   "outputs": [],
   "source": [
    "from umap import UMAP\n",
    "from sklearn.manifold import TSNE\n",
    "from sklearn.decomposition import PCA\n",
    "from sklearn.preprocessing import StandardScaler"
   ]
  },
  {
   "cell_type": "code",
   "execution_count": 3,
   "id": "e1158ce5-26b6-4a10-890d-c5c370377a61",
   "metadata": {},
   "outputs": [],
   "source": [
    "## Dimensionality reduction\n",
    "def f_dim_reduction(data,pdict, vis_type='UMAP'):\n",
    "    '''\n",
    "    Compute dimensionality reduction : UMAP, tSNE or PCA\n",
    "    Need 2D array\n",
    "    '''  \n",
    "    \n",
    "    assert vis_type in ['UMAP','tSNE','PCA'],\"vis_type must be one of %s\"%(['UMAP','tSNE','PCA'])    \n",
    "    \n",
    "    verbose = 0\n",
    "    if vis_type=='UMAP':\n",
    "        n_neighbours = pdict['n_neighbors']\n",
    "        min_dist = pdict['min_dist']\n",
    "\n",
    "        func_2d = UMAP(n_components=2, n_neighbors = n_neighbours, min_dist= min_dist, init='random', random_state=0, verbose=verbose)\n",
    "        # func_3d = UMAP(n_components=3, n_neighbors = n_neighbours, min_dist= min_dist, init='random', random_state=0)\n",
    "\n",
    "    elif vis_type=='tSNE':\n",
    "        perplexity = pdict['perplexity']\n",
    "        n_iter     = pdict['n_iter']\n",
    "\n",
    "        func_2d = TSNE(n_components=2, verbose = verbose, perplexity = perplexity, n_iter = n_iter)\n",
    "        # func_3d = TSNE(n_components=3, verbose = verbose, perplexity = perplexity, n_iter = n_iter)\n",
    "\n",
    "    elif vis_type=='PCA':\n",
    "        func_2d = PCA(n_components = 2)\n",
    "        # func_3d = PCA(n_components = 3)\n",
    "\n",
    "    if type(data) is list: \n",
    "        if vis_type=='tSNE':\n",
    "            results = [func_2d.fit_transform(d) for d in data]\n",
    "        else:\n",
    "            func_2d.fit(data[0])   \n",
    "            results = [func_2d.transform(d) for d in data]\n",
    "    \n",
    "    else: \n",
    "        results = [func_2d.fit_transform(data)]\n",
    "        \n",
    "    # proj_3d = func_3d.fit_transform(features)\n",
    "\n",
    "    return results"
   ]
  },
  {
   "cell_type": "code",
   "execution_count": 48,
   "id": "32d2a92d-0595-48c2-b620-4c57d09945b8",
   "metadata": {},
   "outputs": [],
   "source": [
    "def f_plot_dim_red(arr_list,vis_type):\n",
    "    pdict={'n_neighbors':50, 'min_dist':0.5, 'perplexity':min(30,arr_list[0].shape[0]-1) , 'n_iter':1000}\n",
    "\n",
    "    results = f_dim_reduction(arr_list, pdict, vis_type)\n",
    "\n",
    "    plt.figure()\n",
    "    for count,(result,m) in enumerate(zip(results,itertools.cycle('sDhx*o'))):\n",
    "        plt.scatter(result[:,0],result[:,1],marker=m,label=count)\n",
    "    plt.title('test')\n",
    "    plt.legend()\n",
    "    plt.show()"
   ]
  },
  {
   "cell_type": "code",
   "execution_count": 53,
   "id": "e29ab1e4-ec0f-44d5-b78f-df0cdd8b3087",
   "metadata": {
    "scrolled": true
   },
   "outputs": [
    {
     "data": {
      "text/plain": [
       "((200, 5), (200, 5))"
      ]
     },
     "execution_count": 53,
     "metadata": {},
     "output_type": "execute_result"
    }
   ],
   "source": [
    "def f_gen_mock_data(seed=42):\n",
    "    # Set random seed for reproducibility\n",
    "    np.random.seed(seed)\n",
    "    \n",
    "    # Generate 200 samples of 5D data with 4 distinct clusters\n",
    "    n_samples = 200\n",
    "    n_features = 5\n",
    "    n_clusters = 4\n",
    "    \n",
    "    # Initialize empty array\n",
    "    data = np.zeros((n_samples, n_features))\n",
    "    \n",
    "    # Generate cluster centers\n",
    "    cluster_centers = np.random.uniform(-10, 10, (n_clusters, n_features))\n",
    "    \n",
    "    # Generate samples for each cluster\n",
    "    samples_per_cluster = n_samples // n_clusters\n",
    "    for i in range(n_clusters):\n",
    "        start_idx = i * samples_per_cluster\n",
    "        end_idx = (i + 1) * samples_per_cluster if i < n_clusters - 1 else n_samples\n",
    "        \n",
    "        # Generate points around cluster center with some noise\n",
    "        cluster_data = (cluster_centers[i] + \n",
    "                       np.random.normal(0, 1.5, (end_idx - start_idx, n_features)))\n",
    "        data[start_idx:end_idx] = cluster_data\n",
    "    \n",
    "    # Shuffle the data\n",
    "    np.random.shuffle(data)\n",
    "\n",
    "    return data\n",
    "\n",
    "d1 = f_gen_mock_data(24)\n",
    "d2 = f_gen_mock_data(44)\n",
    "\n",
    "d1.shape,d2.shape"
   ]
  },
  {
   "cell_type": "code",
   "execution_count": 55,
   "id": "1fa48cf2-d519-48dd-94a9-a3137cdc0c7d",
   "metadata": {},
   "outputs": [],
   "source": [
    "# f_plot_dim_red(d1,'tSNE')"
   ]
  },
  {
   "cell_type": "code",
   "execution_count": 54,
   "id": "50bebba5-bb7e-4998-95a6-7fd8e3f275e6",
   "metadata": {},
   "outputs": [
    {
     "data": {
      "application/vnd.jupyter.widget-view+json": {
       "model_id": "cdfd0715ce2a4709bb9ac103c817bc3d",
       "version_major": 2,
       "version_minor": 0
      },
      "text/plain": [
       "interactive(children=(Dropdown(description='vis_type', options=('UMAP', 'tSNE', 'PCA'), value='UMAP'), Output(…"
      ]
     },
     "metadata": {},
     "output_type": "display_data"
    },
    {
     "data": {
      "text/plain": [
       "<function __main__.f_plot_dim_red(arr_list, vis_type)>"
      ]
     },
     "execution_count": 54,
     "metadata": {},
     "output_type": "execute_result"
    }
   ],
   "source": [
    "interact(f_plot_dim_red,arr_list = fixed([d1,d2]), vis_type=['UMAP','tSNE','PCA'])"
   ]
  },
  {
   "cell_type": "code",
   "execution_count": 47,
   "id": "4549c75d-96f6-4ce2-93ca-d766b28d8d88",
   "metadata": {},
   "outputs": [
    {
     "data": {
      "text/plain": [
       "(200, 5)"
      ]
     },
     "execution_count": 47,
     "metadata": {},
     "output_type": "execute_result"
    }
   ],
   "source": []
  },
  {
   "cell_type": "code",
   "execution_count": null,
   "id": "a838ab68-b11a-4005-bd23-d7af10c37584",
   "metadata": {},
   "outputs": [],
   "source": []
  }
 ],
 "metadata": {
  "kernelspec": {
   "display_name": "v312",
   "language": "python",
   "name": "v_py_3.12"
  },
  "language_info": {
   "codemirror_mode": {
    "name": "ipython",
    "version": 3
   },
   "file_extension": ".py",
   "mimetype": "text/x-python",
   "name": "python",
   "nbconvert_exporter": "python",
   "pygments_lexer": "ipython3",
   "version": "3.12.9"
  }
 },
 "nbformat": 4,
 "nbformat_minor": 5
}
