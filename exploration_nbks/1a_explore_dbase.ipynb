{
 "cells": [
  {
   "cell_type": "markdown",
   "id": "784d05f1-c94f-4382-9dbf-09ee9ed87e7f",
   "metadata": {},
   "source": [
    "## Code to access MGKDB \n",
    "Venkitesh ayyar\n",
    "Feb 12, 2024 "
   ]
  },
  {
   "cell_type": "code",
   "execution_count": 1,
   "id": "a26d13a7-a755-4665-9aef-b577a1f18a34",
   "metadata": {
    "tags": []
   },
   "outputs": [],
   "source": [
    "import numpy as np\n",
    "import datetime\n",
    "import os\n",
    "\n",
    "import pymongo\n",
    "import pprint\n",
    "from bson.objectid import ObjectId\n"
   ]
  },
  {
   "cell_type": "code",
   "execution_count": 2,
   "id": "0bf837a6-2288-4575-8e2f-b78dee55d875",
   "metadata": {
    "tags": []
   },
   "outputs": [],
   "source": [
    "import sys\n",
    "sys.path.append('../support')\n",
    "from mgk_login import mgk_login"
   ]
  },
  {
   "cell_type": "markdown",
   "id": "0601379f-1d67-455f-b3c9-e9f053fdf57b",
   "metadata": {},
   "source": [
    "## Login to NERSC database "
   ]
  },
  {
   "cell_type": "code",
   "execution_count": 3,
   "id": "535334b4-0e2e-49d2-acb3-21f4fa21cc4d",
   "metadata": {
    "tags": []
   },
   "outputs": [],
   "source": [
    "def f_login_db(method,db_credentials=None,login_dict=None):\n",
    "    \n",
    "    assert method in ['login_file','direct']\n",
    "    \n",
    "    #### Method 1: MGKDB code login.py file  with repository and saved credentials from file db_credentials\n",
    "    if method=='login_file': \n",
    "        \n",
    "        login = mgk_login()\n",
    "        try:\n",
    "            login.from_saved(os.path.abspath(db_credentials))\n",
    "        except OSError:\n",
    "            exit(\"The specified credential file is not found!\")\n",
    "\n",
    "        client = login.connect()\n",
    "        \n",
    "        \n",
    "    #### Method 2 : Directly access database with login credentials from login_dict\n",
    "    elif method=='direct': \n",
    "        \n",
    "        client = pymongo.MongoClient(login_dict['server'])[login_dict['dbname']]\n",
    "        client.authenticate(login_dict['user'],login_dict['pwd'])\n",
    "    \n",
    "    return client"
   ]
  },
  {
   "cell_type": "code",
   "execution_count": 4,
   "id": "b59d892d-844b-48db-be5e-3c40d25528a9",
   "metadata": {
    "tags": []
   },
   "outputs": [],
   "source": [
    "## Method 1 : This requires importing mgk_login.py from the MGKDB repo\n",
    "db_credentials='<path_to_credentials.pkl>'\n",
    "\n",
    "db_credentials='../../../mgkdb_data/db_credentials/ayyarv.pkl'\n",
    "\n",
    "client = f_login_db('login_file',db_credentials,None)"
   ]
  },
  {
   "cell_type": "code",
   "execution_count": 5,
   "id": "2b508c78-45a6-4bb0-bfef-d60f049669f5",
   "metadata": {
    "tags": []
   },
   "outputs": [],
   "source": [
    "## Method 2 \n",
    "### Read-only credentials \n",
    "# login_dict={'server':<server>,\n",
    "#          'port'  :'27017',\n",
    "#          'dbname':<dbname>,\n",
    "#          'user'  :'<db_username>',\n",
    "#          'pwd'   :'<db_password>'\n",
    "#         }\n",
    "\n",
    "# client = f_login_db('direct',None,login_dict)"
   ]
  },
  {
   "cell_type": "markdown",
   "id": "bccc5dfb-facd-4e09-b26e-abd52f48ee61",
   "metadata": {},
   "source": [
    "## Download data using client  "
   ]
  },
  {
   "cell_type": "code",
   "execution_count": 6,
   "id": "ba135d8f-469a-452a-b587-c7f85773e691",
   "metadata": {
    "tags": []
   },
   "outputs": [
    {
     "name": "stdout",
     "output_type": "stream",
     "text": [
      "Collections ['NonlinRuns', 'fs.chunks', 'fs.files', 'LinearRuns']\n",
      "Find Meta for OID\n",
      "\n",
      "Find id for confidence\n"
     ]
    }
   ],
   "source": [
    "## Test extract \n",
    "print(\"Collections\",client.list_collection_names())\n",
    "\n",
    "print(\"Find Meta for OID\")\n",
    "for r in client.LinearRuns.find({\"_id\":ObjectId(\"5f34a519bafb0f9d07b05721\")},{'Meta':1}):\n",
    "    pprint.pprint(r)\n",
    "\n",
    "## Find ids with confidence level greater than a value\n",
    "print(\"\\nFind id for confidence\")\n",
    "for r in client.LinearRuns.find({\"Meta.confidence\":{\"$gt\":6.0}},{\"_id\":1}):\n",
    "    pprint.pprint(r)\n",
    "    "
   ]
  },
  {
   "cell_type": "markdown",
   "id": "e21c796b-ed10-47df-a2df-7d3f9f9a3b64",
   "metadata": {},
   "source": [
    "### Explore gyrokinetics IMAS info for conversion to latest IMAS"
   ]
  },
  {
   "cell_type": "code",
   "execution_count": 18,
   "id": "d003e880-1256-4b7b-a57b-91e2525f0132",
   "metadata": {
    "tags": []
   },
   "outputs": [
    {
     "name": "stdout",
     "output_type": "stream",
     "text": [
      "Find gyrokinetics for OID\n",
      "dict_keys(['_id', 'gyrokinetics'])\n"
     ]
    }
   ],
   "source": [
    "print(\"Find gyrokinetics for OID\")\n",
    "for r in client.LinearRuns.find({\"_id\":ObjectId(\"66e1ba903d55a45ca8ca3701\")},{'gyrokinetics':1}):\n",
    "    pprint.pprint(r.keys())\n",
    "    pass"
   ]
  },
  {
   "cell_type": "code",
   "execution_count": 14,
   "id": "c45d1118-7cd9-4cd2-b88c-1e839797627d",
   "metadata": {
    "tags": []
   },
   "outputs": [
    {
     "data": {
      "text/plain": [
       "(dict, dict_keys(['_id', 'gyrokinetics']))"
      ]
     },
     "execution_count": 14,
     "metadata": {},
     "output_type": "execute_result"
    }
   ],
   "source": [
    "type(r),r.keys()"
   ]
  },
  {
   "cell_type": "code",
   "execution_count": 19,
   "id": "bb7204f6-e773-4bd3-bb16-8ce32e063ccc",
   "metadata": {
    "tags": []
   },
   "outputs": [
    {
     "data": {
      "text/plain": [
       "dict_keys(['max_repr_length', 'version', 'ids_properties', 'normalizing_quantities', 'flux_surface', 'linear', 'non_linear', 'model', 'species_all', 'species', 'collisions', 'code', 'time'])"
      ]
     },
     "execution_count": 19,
     "metadata": {},
     "output_type": "execute_result"
    }
   ],
   "source": [
    "r['gyrokinetics'].keys()"
   ]
  },
  {
   "cell_type": "code",
   "execution_count": 16,
   "id": "91e4014c-4d73-49e2-9239-cb2278829ad7",
   "metadata": {
    "tags": []
   },
   "outputs": [],
   "source": [
    "## Write to file \n",
    "\n",
    "# import yaml\n",
    "# fname='gyro.yaml'\n",
    "\n",
    "# with open(fname,'w') as f:\n",
    "#     yaml.dump(r['gyrokinetics'],f,default_flow_style=False)"
   ]
  },
  {
   "cell_type": "code",
   "execution_count": 19,
   "id": "42d113d4-8aa7-441d-88f0-44bbd9247d2b",
   "metadata": {
    "tags": []
   },
   "outputs": [],
   "source": [
    "# Read from file \n",
    "# fname='gyro.yaml'\n",
    "\n",
    "# with open(fname,'r') as f:\n",
    "#     dict_2 = yaml.safe_load(f)"
   ]
  },
  {
   "cell_type": "code",
   "execution_count": null,
   "id": "aee9871b-3335-46a8-ae3a-d53ec93b9252",
   "metadata": {},
   "outputs": [],
   "source": []
  },
  {
   "cell_type": "code",
   "execution_count": null,
   "id": "36101f88-9adc-4393-8dbb-64312ab1be8f",
   "metadata": {},
   "outputs": [],
   "source": []
  }
 ],
 "metadata": {
  "kernelspec": {
   "display_name": "mgkdb2",
   "language": "python",
   "name": "mgkdb2"
  },
  "language_info": {
   "codemirror_mode": {
    "name": "ipython",
    "version": 3
   },
   "file_extension": ".py",
   "mimetype": "text/x-python",
   "name": "python",
   "nbconvert_exporter": "python",
   "pygments_lexer": "ipython3",
   "version": "3.9.19"
  }
 },
 "nbformat": 4,
 "nbformat_minor": 5
}
