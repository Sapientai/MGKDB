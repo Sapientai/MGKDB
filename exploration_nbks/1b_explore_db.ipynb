{
 "cells": [
  {
   "cell_type": "markdown",
   "id": "a67c76ef-4c09-426f-b116-d1ed1f8c3c73",
   "metadata": {},
   "source": [
    "## Explore db entries \n",
    "Jan 21, 2025"
   ]
  },
  {
   "cell_type": "code",
   "execution_count": 1,
   "id": "bf92604e-0d5e-456a-a6b9-146f188fffb0",
   "metadata": {},
   "outputs": [],
   "source": [
    "import sys\n",
    "import os\n",
    "import argparse\n",
    "from sys import exit\n",
    "import pprint\n",
    "import pymongo"
   ]
  },
  {
   "cell_type": "code",
   "execution_count": 2,
   "id": "6d83505c-c83d-4cfe-b905-6ffd6e8e1e90",
   "metadata": {},
   "outputs": [],
   "source": [
    "from mgkdb.support.mgk_login import mgk_login\n",
    "from mgkdb.support.mgk_file_handling import f_set_metadata\n"
   ]
  },
  {
   "cell_type": "code",
   "execution_count": 3,
   "id": "d33ea965-eb3f-4815-91d7-857e9a9af354",
   "metadata": {},
   "outputs": [],
   "source": [
    "def f_login_db(method,db_credentials=None,login_dict=None):\n",
    "    \n",
    "    assert method in ['login_file','direct']\n",
    "    \n",
    "    #### Method 1: MGKDB code login.py file  with repository and saved credentials from file db_credentials\n",
    "    if method=='login_file': \n",
    "        \n",
    "        login = mgk_login()\n",
    "        try:\n",
    "            login.from_saved(os.path.abspath(db_credentials))\n",
    "        except OSError:\n",
    "            exit(\"The specified credential file is not found!\")\n",
    "\n",
    "        client = login.connect()\n",
    "        \n",
    "        \n",
    "    #### Method 2 : Directly access database with login credentials from login_dict\n",
    "    elif method=='direct': \n",
    "        \n",
    "        client = pymongo.MongoClient(login_dict['server'])[login_dict['dbname']]\n",
    "        client.authenticate(login_dict['user'],login_dict['pwd'])\n",
    "    \n",
    "    return client"
   ]
  },
  {
   "cell_type": "code",
   "execution_count": 24,
   "id": "66a93e11-55c3-4e3b-9697-2a5694840c61",
   "metadata": {},
   "outputs": [
    {
     "name": "stdout",
     "output_type": "stream",
     "text": [
      "Collections ['LinearRuns', 'ex.Lin', 'NonlinRuns', 'fs.chunks', 'fs.files', 'ex.Nonlin']\n"
     ]
    }
   ],
   "source": [
    "if __name__==\"__main__\":\n",
    "    db_credentials='../../credentials/login_ayyarv.pkl'\n",
    "    client = f_login_db('login_file',db_credentials,None)\n",
    "    ## Test extract \n",
    "    print(\"Collections\",client.list_collection_names())\n",
    "\n",
    "    # table='LinearRuns'\n",
    "    table='NonlinRuns'\n",
    "    \n",
    "    if table =='LinearRuns':        \n",
    "        linear='linear'\n",
    "        quasi_linear = False    \n",
    "        collection = client['LinearRuns']\n",
    "        \n",
    "    elif table=='NonlinRuns':\n",
    "        linear='nonlinear'\n",
    "        quasi_linear = False    \n",
    "        collection = client['NonlinRuns']\n",
    "        \n",
    "    all_ids = [r['_id'] for r in collection.find({},{'id':1})]\n",
    "    # print(all_ids)\n",
    "    \n",
    "    # for oid in all_ids[:2]:\n",
    "    \n",
    "    #     fltr = {\"_id\":oid}\n",
    "    #     document = collection.find_one(fltr,{'Metadata':1,'_id':0})\n",
    "    #     meta = document.get('Metadata')\n",
    "    #     print(meta)"
   ]
  },
  {
   "cell_type": "code",
   "execution_count": null,
   "id": "288546e1-bd47-4736-91aa-0c342a2ad03f",
   "metadata": {},
   "outputs": [],
   "source": []
  },
  {
   "cell_type": "code",
   "execution_count": 27,
   "id": "d10edbfb-9ab9-416a-b52f-834284e952a0",
   "metadata": {},
   "outputs": [
    {
     "name": "stdout",
     "output_type": "stream",
     "text": [
      "{'user': 'maxcurie', 'run_collection_name': '/global/cscratch1/sd/maxcurie/LN_nu_scan/nu_100', 'run_suffix': '_2', 'keywords': ['GENE', 'nonlin'], 'confidence': '7', 'simulation_type': 'GENE'}\n",
      "5f7a39819797b92b63373c4f\n"
     ]
    }
   ],
   "source": [
    "for oid in all_ids[:]:\n",
    "\n",
    "    fltr = {\"_id\":oid}\n",
    "    document = collection.find_one(fltr,{'Metadata':1,'_id':0})\n",
    "    meta = document.get('Metadata')\n",
    "    if 'time_uploaded' not in meta.keys():\n",
    "        print(meta)\n",
    "        print(oid)\n"
   ]
  },
  {
   "cell_type": "code",
   "execution_count": 23,
   "id": "2f65a264-4b99-4c25-94e2-47b4e1b5922e",
   "metadata": {},
   "outputs": [
    {
     "data": {
      "text/plain": [
       "9978"
      ]
     },
     "execution_count": 23,
     "metadata": {},
     "output_type": "execute_result"
    }
   ],
   "source": [
    "len(all_ids)"
   ]
  },
  {
   "cell_type": "code",
   "execution_count": null,
   "id": "98758b66-ef89-4ff8-b285-2ea9c074edd2",
   "metadata": {},
   "outputs": [],
   "source": []
  }
 ],
 "metadata": {
  "kernelspec": {
   "display_name": "mgkdb312",
   "language": "python",
   "name": "mgkdb312"
  },
  "language_info": {
   "codemirror_mode": {
    "name": "ipython",
    "version": 3
   },
   "file_extension": ".py",
   "mimetype": "text/x-python",
   "name": "python",
   "nbconvert_exporter": "python",
   "pygments_lexer": "ipython3",
   "version": "3.12.7"
  }
 },
 "nbformat": 4,
 "nbformat_minor": 5
}
