{
 "cells": [
  {
   "cell_type": "markdown",
   "id": "63c9b7e9-7180-45ff-80bf-779e6bbb2d4a",
   "metadata": {},
   "source": [
    "## Convert old IMAS at NERSC to new IMAS \n",
    "June 21, 2024 \n",
    "\n",
    "Venkitesh Ayyar"
   ]
  },
  {
   "cell_type": "code",
   "execution_count": 1,
   "id": "d1bc1146-ec95-435b-b4b9-11bdcdc4e1b5",
   "metadata": {
    "tags": []
   },
   "outputs": [],
   "source": [
    "import numpy as np\n",
    "import datetime\n",
    "import os\n",
    "\n",
    "import pymongo\n",
    "import pprint\n",
    "from bson.objectid import ObjectId\n",
    "\n",
    "import yaml\n",
    "import json\n",
    "import xmltodict"
   ]
  },
  {
   "cell_type": "code",
   "execution_count": 2,
   "id": "066d541e-02e7-4df3-a5fa-fc9be358fd1d",
   "metadata": {
    "tags": []
   },
   "outputs": [],
   "source": [
    "# ## Convert json to yaml for easy viewing\n",
    "# with open('gyrokinetics_new.json', 'r') as j:\n",
    "#     GK_dict = json.loads(j.read())\n",
    "    \n",
    "# with open('gyrokinetics_new.yaml','w') as f:\n",
    "#     yaml.dump(GK_dict,f,default_flow_style=False)"
   ]
  },
  {
   "cell_type": "markdown",
   "id": "5ffd6bcf-9880-4c4c-b279-fcdc3907a6df",
   "metadata": {
    "tags": []
   },
   "source": [
    "## Load both yaml files"
   ]
  },
  {
   "cell_type": "code",
   "execution_count": 3,
   "id": "38bce154-5428-49e2-abd7-1b5b9ce76922",
   "metadata": {
    "tags": []
   },
   "outputs": [],
   "source": [
    "fname='gyro_imas_old.yaml'\n",
    "with open(fname,'r') as f:\n",
    "    gk_dict = yaml.safe_load(f)\n",
    "    \n",
    "fname='gyro_imas_new.yaml'\n",
    "with open(fname,'r') as f:\n",
    "    GK_dict = yaml.safe_load(f)"
   ]
  },
  {
   "cell_type": "code",
   "execution_count": 4,
   "id": "43c41130-e37d-4456-8e8c-f5585b110824",
   "metadata": {
    "tags": []
   },
   "outputs": [
    {
     "name": "stdout",
     "output_type": "stream",
     "text": [
      "dict_keys(['code', 'collisions', 'flux_surface', 'fluxes_integrated_norm', 'ids_properties', 'model', 'species', 'species_all', 'wavevector']) \n",
      " dict_keys(['code', 'collisions', 'flux_surface', 'ids_properties', 'linear', 'max_repr_length', 'model', 'non_linear', 'normalizing_quantities', 'species', 'species_all', 'time', 'version'])\n"
     ]
    }
   ],
   "source": [
    "print(gk_dict.keys(),'\\n',GK_dict.keys())"
   ]
  },
  {
   "cell_type": "markdown",
   "id": "00ecaea9-fc14-4550-b4d4-0a26886e4cc7",
   "metadata": {
    "tags": []
   },
   "source": [
    "## Print dictionary hierarchy"
   ]
  },
  {
   "cell_type": "code",
   "execution_count": 5,
   "id": "6ef1ad64-2209-4198-b055-6f75cff5792f",
   "metadata": {
    "tags": []
   },
   "outputs": [],
   "source": [
    "def f_print_dict_struct(dict1,tab_count=0):\n",
    "    '''\n",
    "    Module to print dictionary hierarchy\n",
    "    '''\n",
    "    \n",
    "    if isinstance(dict1,dict):\n",
    "        for i,j in dict1.items():\n",
    "            if not isinstance(j,dict):\n",
    "                print('\\t'*tab_count, i,'\\t',type(j))\n",
    "                if (isinstance(j,list) and len(j)>0):\n",
    "                    if isinstance(j[0],dict):\n",
    "                        print('\\t'*tab_count,i,'[0]:')                    \n",
    "                        f_print_dict_struct(j[0],tab_count+1)\n",
    "            else: \n",
    "                # print('\\t'*tab_count,\"------------\")\n",
    "                print('\\t'*tab_count,i,':')\n",
    "                f_print_dict_struct(j, tab_count+1)\n",
    "\n",
    "                \n",
    "# f_print_dict_struct(gk_dict,0)\n",
    "\n",
    "# f_print_dict_struct(GK_dict,0)\n",
    "    "
   ]
  },
  {
   "cell_type": "code",
   "execution_count": 6,
   "id": "209da729-c331-42b9-aca6-70160d37cd7a",
   "metadata": {},
   "outputs": [],
   "source": [
    "def f_get_dict_all_keys(dict1):\n",
    "    '''\n",
    "    Module to get lowest keys in dict hierarchy\n",
    "    '''\n",
    "    keys_lst =[] \n",
    "    \n",
    "    if isinstance(dict1,dict):\n",
    "        for i,j in dict1.items():\n",
    "            if not isinstance(j,dict):\n",
    "                keys_lst.append(i)\n",
    "                if (isinstance(j,list) and len(j)>0):\n",
    "                    if isinstance(j[0],dict):\n",
    "                        keys_lst.extend( f_get_dict_all_keys(j[0]) )\n",
    "            else: \n",
    "                keys_lst.extend( f_get_dict_all_keys(j) ) \n",
    "\n",
    "    return keys_lst\n",
    "\n",
    "# keys_par2 = f_get_dict_all_keys(par2)"
   ]
  },
  {
   "cell_type": "code",
   "execution_count": 26,
   "id": "7049185f-9835-4555-a7ca-d5b404c07835",
   "metadata": {
    "tags": []
   },
   "outputs": [
    {
     "name": "stdout",
     "output_type": "stream",
     "text": [
      "name\n",
      "parameters\n",
      "version\n",
      "\n",
      "\n",
      "\n",
      "commit\n",
      "description\n",
      "library\n",
      "max_repr_length\n",
      "name\n",
      "output_flag\n",
      "parameters\n",
      "repository\n",
      "version\n"
     ]
    }
   ],
   "source": [
    "keys='code'\n",
    "for key in gk_dict[keys]:\n",
    "    print(key)\n",
    "print('\\n\\n')\n",
    "for key in GK_dict[keys]:\n",
    "    print(key)"
   ]
  },
  {
   "cell_type": "code",
   "execution_count": 27,
   "id": "ced13000-67ce-4e79-b36d-b536ea2c1312",
   "metadata": {},
   "outputs": [
    {
     "data": {
      "text/plain": [
       "(dict_keys(['code', 'collisions', 'flux_surface', 'fluxes_integrated_norm', 'ids_properties', 'model', 'species', 'species_all', 'wavevector']),\n",
       " dict_keys(['code', 'collisions', 'flux_surface', 'ids_properties', 'linear', 'max_repr_length', 'model', 'non_linear', 'normalizing_quantities', 'species', 'species_all', 'time', 'version']))"
      ]
     },
     "execution_count": 27,
     "metadata": {},
     "output_type": "execute_result"
    }
   ],
   "source": [
    "gk_dict.keys(),GK_dict.keys()"
   ]
  },
  {
   "cell_type": "code",
   "execution_count": null,
   "id": "c33a8836-0a47-4676-938a-528acd5f1fc5",
   "metadata": {
    "scrolled": true
   },
   "outputs": [],
   "source": []
  },
  {
   "cell_type": "markdown",
   "id": "6ae5434b-a59e-4d47-8b6e-233f21adf30a",
   "metadata": {},
   "source": [
    "### Mode"
   ]
  },
  {
   "cell_type": "code",
   "execution_count": 25,
   "id": "32ff0e36-b4c6-4cf4-b58a-f963f083c64e",
   "metadata": {
    "tags": []
   },
   "outputs": [
    {
     "data": {
      "text/plain": [
       "(dict_keys(['commit', 'description', 'library', 'max_repr_length', 'name', 'output_flag', 'parameters', 'repository', 'version']),\n",
       " dict_keys(['name', 'parameters', 'version']))"
      ]
     },
     "execution_count": 25,
     "metadata": {},
     "output_type": "execute_result"
    }
   ],
   "source": [
    "GK_dict[keys].keys(),gk_dict[keys].keys()"
   ]
  },
  {
   "cell_type": "code",
   "execution_count": 44,
   "id": "7d04c915-ed47-453f-84a0-07aff4a39f95",
   "metadata": {
    "tags": []
   },
   "outputs": [
    {
     "data": {
      "text/plain": [
       "['ei_only',\n",
       " 'energy_conservation',\n",
       " 'finite_larmor_radius',\n",
       " 'momentum_conservation',\n",
       " 'pitch_only']"
      ]
     },
     "execution_count": 44,
     "metadata": {},
     "output_type": "execute_result"
    }
   ],
   "source": [
    "[key2.split('collision_')[-1] for key2 in gk_dict['model'].keys() if key2.startswith('collision')]"
   ]
  },
  {
   "cell_type": "code",
   "execution_count": 12,
   "id": "869acc98-0832-4cc4-ba69-eee1960d2c4f",
   "metadata": {},
   "outputs": [
    {
     "name": "stdout",
     "output_type": "stream",
     "text": [
      "include_a_field_parallel 1\n",
      "include_b_field_parallel 0\n",
      "include_centrifugal_effects None\n",
      "include_coriolis_drift None\n",
      "include_full_curvature_drift None\n"
     ]
    }
   ],
   "source": [
    "for key2 in GK_dict['model'].keys():\n",
    "    if key2.startswith('include'):\n",
    "        print(key2,GK_dict['model'][key2])"
   ]
  },
  {
   "cell_type": "code",
   "execution_count": 14,
   "id": "14d45944-cfa0-4aa1-992a-a9462031b14c",
   "metadata": {},
   "outputs": [
    {
     "name": "stdout",
     "output_type": "stream",
     "text": [
      "include_a_field_parallel True\n",
      "include_b_field_parallel False\n",
      "include_centrifugal_effects False\n",
      "include_full_curvature_drift False\n"
     ]
    }
   ],
   "source": [
    "for key2 in gk_dict['model'].keys():\n",
    "    if key2.startswith('include'):\n",
    "        print(key2,gk_dict['model'][key2])\n"
   ]
  },
  {
   "cell_type": "code",
   "execution_count": 53,
   "id": "38bfeb66-adde-4304-beab-7f9c79afd31c",
   "metadata": {},
   "outputs": [
    {
     "name": "stdout",
     "output_type": "stream",
     "text": [
      "energy_conservation True\n",
      "energy_conservation None\n",
      "finite_larmor_radius False\n",
      "finite_larmor_radius None\n",
      "momentum_conservation True\n",
      "momentum_conservation None\n",
      "pitch_only False\n",
      "pitch_only None\n"
     ]
    }
   ],
   "source": [
    "collision_suffix = ['energy_conservation', 'finite_larmor_radius', 'momentum_conservation', 'pitch_only']\n",
    "for suffix in collision_suffix:\n",
    "    print(suffix,gk_dict['model']['collision_'+suffix])\n",
    "    print(suffix,GK_dict['model']['collisions_'+suffix])\n"
   ]
  },
  {
   "cell_type": "code",
   "execution_count": 16,
   "id": "11fe39d6-6f9e-47e8-ba99-eac89965561e",
   "metadata": {
    "tags": []
   },
   "outputs": [],
   "source": [
    "# # ## modification for species \n",
    "# key1='species'\n",
    "\n",
    "# common_keys   = [i for i in gk_dict[key1][0].keys() if i in GK_dict[key1][0].keys()]\n",
    "# old_only_keys = [i for i in gk_dict[key1][0].keys() if i not in GK_dict[key1][0].keys()]\n",
    "# new_only_keys = [i for i in GK_dict[key1][0].keys() if i not in gk_dict[key1][0].keys()]\n",
    "\n",
    "# print(common_keys,'\\n\\n',old_only_keys,'\\n\\n',new_only_keys)\n"
   ]
  },
  {
   "cell_type": "code",
   "execution_count": 21,
   "id": "b07c4a74-0735-4802-b146-0a63fd914ebc",
   "metadata": {},
   "outputs": [
    {
     "name": "stdout",
     "output_type": "stream",
     "text": [
      "include_a_field_parallel True 1\n",
      "include_b_field_parallel False 0\n",
      "include_centrifugal_effects False None\n",
      "include_full_curvature_drift False None\n"
     ]
    }
   ],
   "source": [
    "for key2 in ['include_a_field_parallel', 'include_b_field_parallel', 'include_centrifugal_effects', 'include_full_curvature_drift'] :\n",
    "    print(key2, gk_dict['model'][key2],GK_dict['model'][key2])"
   ]
  },
  {
   "cell_type": "code",
   "execution_count": 11,
   "id": "10a65a22-e2c6-49aa-b5f9-62eefea4af69",
   "metadata": {
    "tags": []
   },
   "outputs": [
    {
     "name": "stdout",
     "output_type": "stream",
     "text": [
      "['include_a_field_parallel', 'include_b_field_parallel', 'include_centrifugal_effects', 'include_full_curvature_drift'] \n",
      "\n",
      " ['collision_ei_only', 'collision_energy_conservation', 'collision_finite_larmor_radius', 'collision_momentum_conservation', 'collision_pitch_only', 'initial_value_run', 'non_linear_run', 'time_interval_norm'] \n",
      "\n",
      " ['adiabatic_electrons', 'collisions_energy_conservation', 'collisions_finite_larmor_radius', 'collisions_momentum_conservation', 'collisions_pitch_only', 'include_coriolis_drift', 'max_repr_length', 'version']\n"
     ]
    }
   ],
   "source": [
    "key1='model'\n",
    "\n",
    "common_keys   = [i for i in gk_dict[key1].keys() if i in GK_dict[key1].keys()]\n",
    "old_only_keys = [i for i in gk_dict[key1].keys() if i not in GK_dict[key1].keys()]\n",
    "new_only_keys = [i for i in GK_dict[key1].keys() if i not in gk_dict[key1].keys()]\n",
    "\n",
    "print(common_keys,'\\n\\n',old_only_keys,'\\n\\n',new_only_keys)\n",
    "\n",
    "# for i in common_keys: \n",
    "#     print(i,'\\t',gk_dict[key1][i],'\\t',GK_dict[key1][i],'\\n')\n",
    "\n",
    "# for i in old_only_keys:\n",
    "#     print(i, gk_dict[key1][i])\n",
    "    \n",
    "# for i in new_only_keys:\n",
    "#     print(i, GK_dict[key1][i])"
   ]
  },
  {
   "cell_type": "code",
   "execution_count": 17,
   "id": "cef78c1c-4cc2-4d33-9a10-4451a4e66e30",
   "metadata": {},
   "outputs": [
    {
     "name": "stdout",
     "output_type": "stream",
     "text": [
      "collision_ei_only False\n",
      "initial_value_run True\n",
      "non_linear_run False\n",
      "time_interval_norm []\n"
     ]
    }
   ],
   "source": [
    "# for key2 in  ['adiabatic_electrons', 'include_coriolis_drift', 'max_repr_length', 'version']:\n",
    "#     print(key2, GK_dict['model'][key2])\n",
    "\n",
    "for key2 in  ['collision_ei_only','initial_value_run', 'non_linear_run', 'time_interval_norm']: \n",
    "    print(key2, gk_dict['model'][key2])"
   ]
  },
  {
   "cell_type": "code",
   "execution_count": null,
   "id": "782a5195-7cec-49fd-abc0-2c4cff99767c",
   "metadata": {},
   "outputs": [],
   "source": []
  },
  {
   "cell_type": "markdown",
   "id": "5feb739d-f2ab-4747-bd53-aa0b09496bc7",
   "metadata": {},
   "source": [
    "### Modules"
   ]
  },
  {
   "cell_type": "code",
   "execution_count": 24,
   "id": "ec641165-6365-48d0-8565-605dd20ca3b7",
   "metadata": {
    "jupyter": {
     "source_hidden": true
    },
    "tags": []
   },
   "outputs": [
    {
     "data": {
      "text/plain": [
       "{'adiabatic_electrons': None,\n",
       " 'include_coriolis_drift': None,\n",
       " 'max_repr_length': 64,\n",
       " 'version': {'idspy_internal_version': '2.0',\n",
       "  'idspy_version': '034000.2.0',\n",
       "  'imas_dd_git_commit': '845f1b30816f86a3cd4d53714dc56cdd307fdca1',\n",
       "  'imas_dd_version': '03.40.00'},\n",
       " 'include_a_field_parallel': 1,\n",
       " 'include_b_field_parallel': 0,\n",
       " 'include_centrifugal_effects': None,\n",
       " 'include_full_curvature_drift': None,\n",
       " 'collisions_energy_conservation': 1,\n",
       " 'collisions_finite_larmor_radius': None,\n",
       " 'collisions_momentum_conservation': 1,\n",
       " 'collisions_pitch_only': None}"
      ]
     },
     "execution_count": 24,
     "metadata": {},
     "output_type": "execute_result"
    }
   ],
   "source": [
    "def f_collisions(old_gk_dict,new_gk_dict):\n",
    "    ''' conversion for key: collisions '''\n",
    "\n",
    "    main_key='collisions'\n",
    "    old_gk,new_gk=old_gk_dict[main_key],new_gk_dict[main_key]\n",
    "    \n",
    "    dict1={}\n",
    "    for key in ['max_repr_length','version']: \n",
    "        dict1[key] = new_gk[key]\n",
    "    \n",
    "    dict1['collisionality_norm']=old_gk['collisionality_norm']\n",
    "    \n",
    "    return dict1\n",
    "\n",
    "def f_flux_surface(old_gk_dict,new_gk_dict):\n",
    "    ''' conversion for key: flux_surface '''\n",
    "\n",
    "    main_key='flux_surface'\n",
    "    old_gk,new_gk=old_gk_dict[main_key],new_gk_dict[main_key]\n",
    "    \n",
    "    dict1={}\n",
    "    ## Old keys not present \n",
    "    keys = ['triangularity_lower', 'triangularity_upper']\n",
    "    \n",
    "    ## New keys not present in old \n",
    "    keys = ['delongation_dr_minor_norm', 'dgeometric_axis_r_dr_minor', 'dgeometric_axis_z_dr_minor', 'max_repr_length', 'version']\n",
    "    for key in keys:\n",
    "        dict1[key] = new_gk[key]\n",
    "    \n",
    "    ## Common keys \n",
    "    common_keys = ['b_field_tor_sign', 'dc_dr_minor_norm', 'ds_dr_minor_norm', 'elongation', 'ip_sign', 'magnetic_shear_r_minor', 'pressure_gradient_norm', 'q', 'r_minor_norm', 'shape_coefficients_c', 'shape_coefficients_s']\n",
    "    \n",
    "    for key in common_keys:\n",
    "        dict1[key] = old_gk[key]\n",
    "        \n",
    "    return dict1\n",
    "\n",
    "def f_species_all(old_gk_dict,new_gk_dict):\n",
    "    ''' conversion for key: species_all '''\n",
    "    \n",
    "    main_key='species_all'\n",
    "    old_gk,new_gk=old_gk_dict[main_key],new_gk_dict[main_key]\n",
    "    \n",
    "    dict1={}\n",
    "    ## Old keys not present \n",
    "    keys =  ['debye_length_reference', 'zeff'] \n",
    "    \n",
    "    ## New keys not present in old \n",
    "    keys = ['angle_pol', 'debye_length_norm', 'max_repr_length', 'version']\n",
    "    for key in keys:\n",
    "        dict1[key] = new_gk[key]\n",
    "    \n",
    "    ## Common keys \n",
    "    common_keys = ['beta_reference', 'shearing_rate_norm', 'velocity_tor_norm'] \n",
    "\n",
    "    for key in common_keys:\n",
    "        dict1[key] = old_gk[key]\n",
    "        \n",
    "    return dict1\n",
    "\n",
    "def f_species(old_gk_dict, new_gk_dict):\n",
    "    ''' conversion for key: species '''\n",
    "\n",
    "    main_key='species'\n",
    "    old_gk,new_gk=old_gk_dict[main_key][0],new_gk_dict[main_key][0]\n",
    "\n",
    "    dict1={}\n",
    "    ## Old keys not present \n",
    "    keys =  ['name'] \n",
    "\n",
    "    ## New keys not present in old \n",
    "    keys = ['max_repr_length', 'potential_energy_gradient_norm', 'potential_energy_norm', 'version']\n",
    "    for key in keys:\n",
    "        dict1[key] = new_gk[key]\n",
    "\n",
    "    ## Common keys \n",
    "    common_keys = ['charge_norm', 'density_log_gradient_norm', 'density_norm', 'mass_norm', 'temperature_log_gradient_norm', 'temperature_norm', 'velocity_tor_gradient_norm'] \n",
    "\n",
    "    for key in common_keys:\n",
    "        dict1[key] = old_gk[key]\n",
    "    \n",
    "    return [dict1]\n",
    "\n",
    "def f_ids_properties(old_gk_dict,new_gk_dict):\n",
    "    ''' conversion for key: ids_properties '''\n",
    "\n",
    "    main_key='ids_properties'\n",
    "    old_gk,new_gk=old_gk_dict[main_key],new_gk_dict[main_key]\n",
    "    \n",
    "    dict1={}\n",
    "    ## Old keys not present \n",
    "    keys = ['creator', 'date'] \n",
    "    \n",
    "    ## New keys not present in old \n",
    "    keys = ['creation_date', 'homogeneous_time', 'max_repr_length', 'name', 'occurrence_type', 'provenance', 'provider', 'version']\n",
    "    for key in keys:\n",
    "        dict1[key] = new_gk[key]\n",
    "    \n",
    "    ## Common keys \n",
    "    common_keys = ['comment'] \n",
    "\n",
    "    for key in common_keys[:]:\n",
    "        dict1[key] = old_gk[key]\n",
    "        \n",
    "    ## Special fixes\n",
    "    dict1['creation_data']=old_gk['date']\n",
    "    dict1['provider'] = 'manual'\n",
    "    \n",
    "    ## Note: 'creator' not used. Should it be stored in 'name' ? \n",
    "    # dict1['name'] = old_gk['creator']\n",
    "\n",
    "    return dict1\n",
    "\n",
    "def f_model(old_gk_dict,new_gk_dict):\n",
    "    ''' conversion for key: model '''\n",
    "\n",
    "    ## To Do : Confirm what NoneType means for the True case in the new schema\n",
    "    \n",
    "    main_key='model'\n",
    "    old_gk,new_gk=old_gk_dict[main_key],new_gk_dict[main_key]\n",
    "    \n",
    "    dict1={}\n",
    "    ## Old keys not present \n",
    "    keys =  ['collision_ei_only','initial_value_run', 'non_linear_run', 'time_interval_norm']\n",
    "    \n",
    "    ## New keys not present in old \n",
    "    keys = ['adiabatic_electrons', 'include_coriolis_drift']\n",
    "    for key in keys: \n",
    "        dict1[key] = None\n",
    "    \n",
    "    keys = ['max_repr_length', 'version']\n",
    "    for key in keys:\n",
    "        dict1[key] = new_gk[key]\n",
    "    \n",
    "    ## Common keys \n",
    "    common_keys = ['include_a_field_parallel', 'include_b_field_parallel']\n",
    "    for key in common_keys: # Integer dtype\n",
    "        dict1[key] = 1 if old_gk[key] else 0\n",
    "\n",
    "    common_keys = ['include_centrifugal_effects', 'include_full_curvature_drift'] \n",
    "    for key in common_keys: ## None type\n",
    "        dict1[key] = 1 if old_gk[key] else None\n",
    "        \n",
    "    ## common keys with slight modification in key name\n",
    "    collision_suffix = ['energy_conservation', 'finite_larmor_radius', 'momentum_conservation', 'pitch_only']\n",
    "    for suffix in collision_suffix: # old : collision_ (Bool) , new: collisions_ (None type)\n",
    "        dict1['collisions_'+suffix] = 1 if gk_dict[main_key]['collision_'+suffix] else None \n",
    "        \n",
    "    return dict1\n",
    "\n",
    "# f_collisions(gk_dict,GK_dict)\n",
    "# f_flux_surface(gk_dict,GK_dict)\n",
    "# f_species_all(gk_dict,GK_dict)\n",
    "# f_species(gk_dict,GK_dict)\n",
    "# f_ids_properties(gk_dict,GK_dict)\n",
    "f_model(gk_dict,GK_dict)\n",
    "\n"
   ]
  },
  {
   "cell_type": "markdown",
   "id": "22df2104-a694-4589-a6df-51f017568771",
   "metadata": {},
   "source": [
    "### Wavevector"
   ]
  },
  {
   "cell_type": "code",
   "execution_count": null,
   "id": "60581e9b-ec88-4335-b8d5-c4b17f33e4e1",
   "metadata": {
    "tags": []
   },
   "outputs": [],
   "source": [
    "gk_dict['wavevector'][0].keys(), GK_dict['linear']['wavevector'][0].keys()\n"
   ]
  },
  {
   "cell_type": "code",
   "execution_count": null,
   "id": "0e8b87e8-f069-4834-9a29-46c3ef510296",
   "metadata": {
    "tags": []
   },
   "outputs": [],
   "source": [
    "gk_dict['wavevector'][0]['eigenmode'][0].keys()"
   ]
  },
  {
   "cell_type": "code",
   "execution_count": null,
   "id": "00d5f15c-43b6-4ce4-9a0b-d9f263144a74",
   "metadata": {
    "tags": []
   },
   "outputs": [],
   "source": [
    "GK_dict['linear']['wavevector'][0]['eigenmode'][0].keys()"
   ]
  },
  {
   "cell_type": "markdown",
   "id": "3db3811c-6133-41c3-a9de-593663cba731",
   "metadata": {},
   "source": [
    "### Code"
   ]
  },
  {
   "cell_type": "code",
   "execution_count": null,
   "id": "80919d84-1b21-4378-805b-0edcd8f3cf0a",
   "metadata": {},
   "outputs": [],
   "source": [
    "gk_dict['code'].keys()"
   ]
  },
  {
   "cell_type": "code",
   "execution_count": null,
   "id": "3c8dbc57-2766-4e8f-b835-c0c3fd2e5bac",
   "metadata": {},
   "outputs": [],
   "source": [
    "gk_dict['code']['parameters']"
   ]
  },
  {
   "cell_type": "code",
   "execution_count": null,
   "id": "691456d9-7bd7-464a-8723-621757958ca9",
   "metadata": {},
   "outputs": [],
   "source": [
    "GK_dict['code'].keys()"
   ]
  },
  {
   "cell_type": "code",
   "execution_count": null,
   "id": "2fa06aa3-a6f0-4d9b-8d47-3ef426b6c42b",
   "metadata": {},
   "outputs": [],
   "source": [
    "GK_dict['code']['library']"
   ]
  },
  {
   "cell_type": "code",
   "execution_count": null,
   "id": "f2ca3bbb-5c0e-4410-a2cc-8526b8d36456",
   "metadata": {},
   "outputs": [],
   "source": [
    "par1 = gk_dict['code']['parameters']\n",
    "par1.keys()"
   ]
  },
  {
   "cell_type": "code",
   "execution_count": null,
   "id": "31663aff-6208-444d-ae9d-7f4aefff6a5c",
   "metadata": {},
   "outputs": [],
   "source": [
    "key2 = 'charge'\n",
    "key2 in par1.keys()"
   ]
  },
  {
   "cell_type": "code",
   "execution_count": null,
   "id": "639f15b2-43f1-4e5c-9277-a45e25b709cb",
   "metadata": {
    "scrolled": true
   },
   "outputs": [],
   "source": [
    "# GK_dict['ids_properties']\n",
    "par2 = xmltodict.parse(GK_dict['code']['parameters'])"
   ]
  },
  {
   "cell_type": "code",
   "execution_count": null,
   "id": "114a503f-230b-4706-9a8c-a072f381ba5e",
   "metadata": {},
   "outputs": [],
   "source": [
    "par2['root'].keys()"
   ]
  },
  {
   "cell_type": "code",
   "execution_count": null,
   "id": "81b76255-c780-4a98-9061-29e4a02e5a73",
   "metadata": {
    "scrolled": true
   },
   "outputs": [],
   "source": [
    "[ky2 for ky1 in par2['root'].keys() for ky2 in par2['root'][ky1]]"
   ]
  },
  {
   "cell_type": "code",
   "execution_count": null,
   "id": "1f951bd3-7876-437c-a934-83d38addc1b9",
   "metadata": {},
   "outputs": [],
   "source": []
  },
  {
   "cell_type": "code",
   "execution_count": null,
   "id": "73e1c0af-04e3-40f0-83bf-d04a9b1e97c9",
   "metadata": {},
   "outputs": [],
   "source": []
  },
  {
   "cell_type": "code",
   "execution_count": null,
   "id": "55cc592d-c6a5-4d04-919c-052b316a14d5",
   "metadata": {},
   "outputs": [],
   "source": [
    "len(par1.keys()),len(keys_par2)"
   ]
  },
  {
   "cell_type": "code",
   "execution_count": null,
   "id": "b80e8c4c-801f-4d59-a003-9525fb0daba0",
   "metadata": {},
   "outputs": [],
   "source": [
    "common = [i for i in par1.keys() if i in keys_par2]\n",
    "not_in_new = [i for i in par1.keys() if i not in keys_par2]\n",
    "not_in_old = [i for i in keys_par2 if i not in par1.keys()]"
   ]
  },
  {
   "cell_type": "code",
   "execution_count": null,
   "id": "087ee4ce-b456-410d-aa4e-0ced433138f1",
   "metadata": {},
   "outputs": [],
   "source": [
    "len(common),len(not_in_new),len(not_in_old)"
   ]
  },
  {
   "cell_type": "code",
   "execution_count": null,
   "id": "fbfaa7f3-a037-4f04-80c8-2fa466515e2b",
   "metadata": {
    "scrolled": true
   },
   "outputs": [],
   "source": [
    "# f_print_dict_struct(par2,0)"
   ]
  }
 ],
 "metadata": {
  "kernelspec": {
   "display_name": "mlpy38",
   "language": "python",
   "name": "mlpy38"
  },
  "language_info": {
   "codemirror_mode": {
    "name": "ipython",
    "version": 3
   },
   "file_extension": ".py",
   "mimetype": "text/x-python",
   "name": "python",
   "nbconvert_exporter": "python",
   "pygments_lexer": "ipython3",
   "version": "3.8.19"
  }
 },
 "nbformat": 4,
 "nbformat_minor": 5
}
