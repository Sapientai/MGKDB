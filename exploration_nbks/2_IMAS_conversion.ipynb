{
 "cells": [
  {
   "cell_type": "markdown",
   "id": "63c9b7e9-7180-45ff-80bf-779e6bbb2d4a",
   "metadata": {},
   "source": [
    "## Convert old IMAS at NERSC to new IMAS \n",
    "June 21, 2024 \n",
    "\n",
    "Venkitesh Ayyar"
   ]
  },
  {
   "cell_type": "code",
   "execution_count": 1,
   "id": "d1bc1146-ec95-435b-b4b9-11bdcdc4e1b5",
   "metadata": {
    "tags": []
   },
   "outputs": [],
   "source": [
    "import numpy as np\n",
    "import datetime\n",
    "import os\n",
    "\n",
    "import pymongo\n",
    "import pprint\n",
    "from bson.objectid import ObjectId\n",
    "\n",
    "import yaml\n",
    "import json\n",
    "import xmltodict"
   ]
  },
  {
   "cell_type": "code",
   "execution_count": 2,
   "id": "066d541e-02e7-4df3-a5fa-fc9be358fd1d",
   "metadata": {
    "tags": []
   },
   "outputs": [],
   "source": [
    "# ## Convert json to yaml for easy viewing\n",
    "# with open('gyrokinetics_new.json', 'r') as j:\n",
    "#     GK_dict = json.loads(j.read())\n",
    "    \n",
    "# with open('gyrokinetics_new.yaml','w') as f:\n",
    "#     yaml.dump(GK_dict,f,default_flow_style=False)"
   ]
  },
  {
   "cell_type": "markdown",
   "id": "5ffd6bcf-9880-4c4c-b279-fcdc3907a6df",
   "metadata": {
    "tags": []
   },
   "source": [
    "## Load both yaml files"
   ]
  },
  {
   "cell_type": "code",
   "execution_count": 4,
   "id": "38bce154-5428-49e2-abd7-1b5b9ce76922",
   "metadata": {
    "tags": []
   },
   "outputs": [],
   "source": [
    "fname='gyro_imas_old.yaml'\n",
    "with open(fname,'r') as f:\n",
    "    gk_dict = yaml.safe_load(f)\n",
    "    \n",
    "fname='gyro_imas_new.yaml'\n",
    "with open(fname,'r') as f:\n",
    "    GK_dict = yaml.safe_load(f)"
   ]
  },
  {
   "cell_type": "code",
   "execution_count": 5,
   "id": "43c41130-e37d-4456-8e8c-f5585b110824",
   "metadata": {
    "tags": []
   },
   "outputs": [
    {
     "name": "stdout",
     "output_type": "stream",
     "text": [
      "dict_keys(['code', 'collisions', 'flux_surface', 'fluxes_integrated_norm', 'ids_properties', 'model', 'species', 'species_all', 'wavevector']) \n",
      " dict_keys(['code', 'collisions', 'flux_surface', 'ids_properties', 'linear', 'max_repr_length', 'model', 'non_linear', 'normalizing_quantities', 'species', 'species_all', 'time', 'version'])\n"
     ]
    }
   ],
   "source": [
    "print(gk_dict.keys(),'\\n',GK_dict.keys())"
   ]
  },
  {
   "cell_type": "markdown",
   "id": "00ecaea9-fc14-4550-b4d4-0a26886e4cc7",
   "metadata": {
    "tags": []
   },
   "source": [
    "## Print dictionary hierarchy"
   ]
  },
  {
   "cell_type": "code",
   "execution_count": 7,
   "id": "6ef1ad64-2209-4198-b055-6f75cff5792f",
   "metadata": {
    "tags": []
   },
   "outputs": [],
   "source": [
    "def f_print_dict_struct(dict1,tab_count=0):\n",
    "    '''\n",
    "    Module to print dictionary hierarchy\n",
    "    '''\n",
    "    \n",
    "    if isinstance(dict1,dict):\n",
    "        for i,j in dict1.items():\n",
    "            if not isinstance(j,dict):\n",
    "                print('\\t'*tab_count, i,'\\t',type(j))\n",
    "                if (isinstance(j,list) and len(j)>0):\n",
    "                    if isinstance(j[0],dict):\n",
    "                        print('\\t'*tab_count,i,'[0]:')                    \n",
    "                        f_print_dict_struct(j[0],tab_count+1)\n",
    "            else: \n",
    "                # print('\\t'*tab_count,\"------------\")\n",
    "                print('\\t'*tab_count,i,':')\n",
    "                f_print_dict_struct(j, tab_count+1)\n",
    "\n",
    "                \n",
    "# f_print_dict_struct(gk_dict,0)\n",
    "\n",
    "# f_print_dict_struct(GK_dict,0)\n",
    "    "
   ]
  },
  {
   "cell_type": "code",
   "execution_count": null,
   "id": "452ec15b-4874-49e7-8858-b3dea36fcdd5",
   "metadata": {
    "tags": []
   },
   "outputs": [],
   "source": [
    "gk_dict['code']['parameters']"
   ]
  },
  {
   "cell_type": "code",
   "execution_count": null,
   "id": "29ce9809-5cc0-4a67-9e30-f2132b37da9f",
   "metadata": {
    "tags": []
   },
   "outputs": [],
   "source": [
    "GK_dict['code']['parameters']"
   ]
  },
  {
   "cell_type": "code",
   "execution_count": null,
   "id": "a183440f-eb0e-4c9c-9648-58be1638c85d",
   "metadata": {
    "scrolled": true,
    "tags": []
   },
   "outputs": [],
   "source": [
    "xmltodict.parse(GK_dict['code']['parameters'])"
   ]
  },
  {
   "cell_type": "code",
   "execution_count": null,
   "id": "7049185f-9835-4555-a7ca-d5b404c07835",
   "metadata": {
    "tags": []
   },
   "outputs": [],
   "source": [
    "keys='code'\n",
    "for key in gk_dict[keys]:\n",
    "    print(key)\n",
    "print('\\n\\n')\n",
    "for key in GK_dict[keys]:\n",
    "    print(key)"
   ]
  },
  {
   "cell_type": "code",
   "execution_count": null,
   "id": "32ff0e36-b4c6-4cf4-b58a-f963f083c64e",
   "metadata": {
    "tags": []
   },
   "outputs": [],
   "source": [
    "GK_dict[keys].keys(),gk_dict[keys].keys()"
   ]
  },
  {
   "cell_type": "code",
   "execution_count": null,
   "id": "7d04c915-ed47-453f-84a0-07aff4a39f95",
   "metadata": {
    "tags": []
   },
   "outputs": [],
   "source": [
    "gk_dict['species'][0].keys()"
   ]
  },
  {
   "cell_type": "code",
   "execution_count": null,
   "id": "5599fce2-ff89-457d-8fc8-158a6e2772d8",
   "metadata": {
    "tags": []
   },
   "outputs": [],
   "source": [
    "GK_dict['species'][0].keys()"
   ]
  },
  {
   "cell_type": "code",
   "execution_count": null,
   "id": "38bfeb66-adde-4304-beab-7f9c79afd31c",
   "metadata": {},
   "outputs": [],
   "source": [
    "gk_dict.keys()\n"
   ]
  },
  {
   "cell_type": "code",
   "execution_count": 32,
   "id": "11fe39d6-6f9e-47e8-ba99-eac89965561e",
   "metadata": {
    "tags": []
   },
   "outputs": [
    {
     "name": "stdout",
     "output_type": "stream",
     "text": [
      "['charge_norm', 'density_log_gradient_norm', 'density_norm', 'mass_norm', 'temperature_log_gradient_norm', 'temperature_norm', 'velocity_tor_gradient_norm'] \n",
      "\n",
      " ['name'] \n",
      "\n",
      " ['max_repr_length', 'potential_energy_gradient_norm', 'potential_energy_norm', 'version']\n"
     ]
    }
   ],
   "source": [
    "# ## modification for species \n",
    "key1='species'\n",
    "\n",
    "common_keys   = [i for i in gk_dict[key1][0].keys() if i in GK_dict[key1][0].keys()]\n",
    "old_only_keys = [i for i in gk_dict[key1][0].keys() if i not in GK_dict[key1][0].keys()]\n",
    "new_only_keys = [i for i in GK_dict[key1][0].keys() if i not in gk_dict[key1][0].keys()]\n",
    "\n",
    "print(common_keys,'\\n\\n',old_only_keys,'\\n\\n',new_only_keys)\n"
   ]
  },
  {
   "cell_type": "code",
   "execution_count": 33,
   "id": "10a65a22-e2c6-49aa-b5f9-62eefea4af69",
   "metadata": {
    "collapsed": true,
    "jupyter": {
     "outputs_hidden": true
    },
    "scrolled": true,
    "tags": []
   },
   "outputs": [
    {
     "name": "stdout",
     "output_type": "stream",
     "text": [
      "['beta_reference', 'shearing_rate_norm', 'velocity_tor_norm'] \n",
      "\n",
      " ['debye_length_reference', 'zeff'] \n",
      "\n",
      " ['angle_pol', 'debye_length_norm', 'max_repr_length', 'version']\n"
     ]
    }
   ],
   "source": [
    "key1='species_all'\n",
    "\n",
    "common_keys   = [i for i in gk_dict[key1].keys() if i in GK_dict[key1].keys()]\n",
    "old_only_keys = [i for i in gk_dict[key1].keys() if i not in GK_dict[key1].keys()]\n",
    "new_only_keys = [i for i in GK_dict[key1].keys() if i not in gk_dict[key1].keys()]\n",
    "\n",
    "print(common_keys,'\\n\\n',old_only_keys,'\\n\\n',new_only_keys)\n",
    "\n",
    "# for i in common_keys: \n",
    "#     print(i,'\\t',gk_dict[key1][i],'\\t',GK_dict[key1][i],'\\n')\n",
    "\n",
    "# for i in old_only_keys:\n",
    "#     print(i, gk_dict[key1][i])\n",
    "    \n",
    "# for i in new_only_keys:\n",
    "#     print(i, GK_dict[key1][i])"
   ]
  },
  {
   "cell_type": "code",
   "execution_count": 44,
   "id": "ec641165-6365-48d0-8565-605dd20ca3b7",
   "metadata": {
    "tags": []
   },
   "outputs": [
    {
     "data": {
      "text/plain": [
       "{'creation_date': '2024-06-17 14:59:44.808105',\n",
       " 'homogeneous_time': 1,\n",
       " 'max_repr_length': 64,\n",
       " 'name': '',\n",
       " 'occurrence_type': None,\n",
       " 'provenance': None,\n",
       " 'provider': 'manual',\n",
       " 'version': {'idspy_internal_version': '2.0',\n",
       "  'idspy_version': '034000.2.0',\n",
       "  'imas_dd_git_commit': '845f1b30816f86a3cd4d53714dc56cdd307fdca1',\n",
       "  'imas_dd_version': '03.40.00'},\n",
       " 'comment': 'json entry for testing only - note that mode structure moments and flux-surface averaged fluxes are given in particle space (i.e. incl. the full pullback operator)\\n EM flux contributions are for now *not* separated and all attributed to the Apar term',\n",
       " 'creation_data': '2020-08-12'}"
      ]
     },
     "execution_count": 44,
     "metadata": {},
     "output_type": "execute_result"
    }
   ],
   "source": [
    "def f_collisions(old_gk_dict,new_gk_dict):\n",
    "    ''' conversion for key: collisions '''\n",
    "\n",
    "    main_key='collisions'\n",
    "    old_gk,new_gk=old_gk_dict[main_key],new_gk_dict[main_key]\n",
    "    \n",
    "    dict1={}\n",
    "    for key in ['max_repr_length','version']: \n",
    "        dict1[key] = new_gk[key]\n",
    "    \n",
    "    dict1['collisionality_norm']=old_gk['collisionality_norm']\n",
    "    \n",
    "    return dict1\n",
    "\n",
    "def f_flux_surface(old_gk_dict,new_gk_dict):\n",
    "    ''' conversion for key: flux_surface '''\n",
    "\n",
    "    main_key='flux_surface'\n",
    "    old_gk,new_gk=old_gk_dict[main_key],new_gk_dict[main_key]\n",
    "    \n",
    "    dict1={}\n",
    "    ## Old keys not present \n",
    "    keys = ['triangularity_lower', 'triangularity_upper']\n",
    "    \n",
    "    ## New keys not present in old \n",
    "    keys = ['delongation_dr_minor_norm', 'dgeometric_axis_r_dr_minor', 'dgeometric_axis_z_dr_minor', 'max_repr_length', 'version']\n",
    "    for key in keys:\n",
    "        dict1[key] = new_gk[key]\n",
    "    \n",
    "    ## Common keys \n",
    "    common_keys = ['b_field_tor_sign', 'dc_dr_minor_norm', 'ds_dr_minor_norm', 'elongation', 'ip_sign', 'magnetic_shear_r_minor', 'pressure_gradient_norm', 'q', 'r_minor_norm', 'shape_coefficients_c', 'shape_coefficients_s']\n",
    "    \n",
    "    for key in common_keys:\n",
    "        dict1[key] = old_gk[key]\n",
    "        \n",
    "    return dict1\n",
    "\n",
    "def f_species_all(old_gk_dict,new_gk_dict):\n",
    "    ''' conversion for key: species_all '''\n",
    "    \n",
    "    main_key='species_all'\n",
    "    old_gk,new_gk=old_gk_dict[main_key],new_gk_dict[main_key]\n",
    "    \n",
    "    dict1={}\n",
    "    ## Old keys not present \n",
    "    keys =  ['debye_length_reference', 'zeff'] \n",
    "    \n",
    "    ## New keys not present in old \n",
    "    keys = ['angle_pol', 'debye_length_norm', 'max_repr_length', 'version']\n",
    "    for key in keys:\n",
    "        dict1[key] = new_gk[key]\n",
    "    \n",
    "    ## Common keys \n",
    "    common_keys = ['beta_reference', 'shearing_rate_norm', 'velocity_tor_norm'] \n",
    "\n",
    "    for key in common_keys:\n",
    "        dict1[key] = old_gk[key]\n",
    "        \n",
    "    return dict1\n",
    "\n",
    "def f_species(old_gk_dict, new_gk_dict):\n",
    "    ''' conversion for key: species '''\n",
    "\n",
    "    main_key='species'\n",
    "    old_gk,new_gk=old_gk_dict[main_key][0],new_gk_dict[main_key][0]\n",
    "\n",
    "    dict1={}\n",
    "    ## Old keys not present \n",
    "    keys =  ['name'] \n",
    "\n",
    "    ## New keys not present in old \n",
    "    keys = ['max_repr_length', 'potential_energy_gradient_norm', 'potential_energy_norm', 'version']\n",
    "    for key in keys:\n",
    "        dict1[key] = new_gk[key]\n",
    "\n",
    "    ## Common keys \n",
    "    common_keys = ['charge_norm', 'density_log_gradient_norm', 'density_norm', 'mass_norm', 'temperature_log_gradient_norm', 'temperature_norm', 'velocity_tor_gradient_norm'] \n",
    "\n",
    "    for key in common_keys:\n",
    "        dict1[key] = old_gk[key]\n",
    "    \n",
    "    return [dict1]\n",
    "\n",
    "def f_ids_properties(old_gk_dict,new_gk_dict):\n",
    "    ''' conversion for key: ids_properties '''\n",
    "\n",
    "    main_key='ids_properties'\n",
    "    old_gk,new_gk=old_gk_dict[main_key],new_gk_dict[main_key]\n",
    "    \n",
    "    dict1={}\n",
    "    ## Old keys not present \n",
    "    keys = ['creator', 'date'] \n",
    "    \n",
    "    ## New keys not present in old \n",
    "    keys = ['creation_date', 'homogeneous_time', 'max_repr_length', 'name', 'occurrence_type', 'provenance', 'provider', 'version']\n",
    "    for key in keys:\n",
    "        dict1[key] = new_gk[key]\n",
    "    \n",
    "    ## Common keys \n",
    "    common_keys = ['comment'] \n",
    "\n",
    "    for key in common_keys[:]:\n",
    "        dict1[key] = old_gk[key]\n",
    "        \n",
    "    ## Special fixes\n",
    "    dict1['creation_data']=old_gk['date']\n",
    "    dict1['provider'] = 'manual'\n",
    "    \n",
    "    ## Note: 'creator' not used. Should it be stored in 'name' ? \n",
    "    # dict1['name'] = old_gk['creator']\n",
    "\n",
    "    return dict1\n",
    "\n",
    "\n",
    "# f_collisions(gk_dict,GK_dict)\n",
    "# f_flux_surface(gk_dict,GK_dict)\n",
    "# f_species_all(gk_dict,GK_dict)\n",
    "# f_species(gk_dict,GK_dict)\n",
    "f_ids_properties(gk_dict,GK_dict)\n"
   ]
  },
  {
   "cell_type": "markdown",
   "id": "22df2104-a694-4589-a6df-51f017568771",
   "metadata": {},
   "source": [
    "### Wavevector"
   ]
  },
  {
   "cell_type": "code",
   "execution_count": 50,
   "id": "60581e9b-ec88-4335-b8d5-c4b17f33e4e1",
   "metadata": {
    "tags": []
   },
   "outputs": [
    {
     "data": {
      "text/plain": [
       "(dict_keys(['binormal_component_norm', 'eigenmode', 'poloidal_turns', 'radial_component_norm']),\n",
       " dict_keys(['binormal_wavevector_norm', 'eigenmode', 'max_repr_length', 'radial_wavevector_norm', 'version']))"
      ]
     },
     "execution_count": 50,
     "metadata": {},
     "output_type": "execute_result"
    }
   ],
   "source": [
    "gk_dict['wavevector'][0].keys(), GK_dict['linear']['wavevector'][0].keys()\n"
   ]
  },
  {
   "cell_type": "code",
   "execution_count": 51,
   "id": "0e8b87e8-f069-4834-9a29-46c3ef510296",
   "metadata": {
    "tags": []
   },
   "outputs": [
    {
     "data": {
      "text/plain": [
       "dict_keys(['a_field_parallel_perturbed_norm_imaginary', 'a_field_parallel_perturbed_norm_real', 'fluxes_norm', 'frequency_norm', 'growth_rate_norm', 'growth_rate_tolerance', 'moments_norm_rotating_frame', 'phi_potential_perturbed_norm_imaginary', 'phi_potential_perturbed_norm_real', 'poloidal_angle'])"
      ]
     },
     "execution_count": 51,
     "metadata": {},
     "output_type": "execute_result"
    }
   ],
   "source": [
    "gk_dict['wavevector'][0]['eigenmode'][0].keys()"
   ]
  },
  {
   "cell_type": "code",
   "execution_count": 52,
   "id": "00d5f15c-43b6-4ce4-9a0b-d9f263144a74",
   "metadata": {
    "tags": []
   },
   "outputs": [
    {
     "data": {
      "text/plain": [
       "dict_keys(['angle_pol', 'code', 'fields', 'frequency_norm', 'growth_rate_norm', 'growth_rate_tolerance', 'initial_value_run', 'linear_weights', 'linear_weights_rotating_frame', 'max_repr_length', 'moments_norm_gyrocenter', 'moments_norm_gyrocenter_bessel_0', 'moments_norm_gyrocenter_bessel_1', 'moments_norm_particle', 'poloidal_turns', 'time_norm', 'version'])"
      ]
     },
     "execution_count": 52,
     "metadata": {},
     "output_type": "execute_result"
    }
   ],
   "source": [
    "GK_dict['linear']['wavevector'][0]['eigenmode'][0].keys()"
   ]
  },
  {
   "cell_type": "markdown",
   "id": "3db3811c-6133-41c3-a9de-593663cba731",
   "metadata": {},
   "source": [
    "### Code"
   ]
  },
  {
   "cell_type": "code",
   "execution_count": 54,
   "id": "80919d84-1b21-4378-805b-0edcd8f3cf0a",
   "metadata": {},
   "outputs": [
    {
     "data": {
      "text/plain": [
       "dict_keys(['name', 'parameters', 'version'])"
      ]
     },
     "execution_count": 54,
     "metadata": {},
     "output_type": "execute_result"
    }
   ],
   "source": [
    "gk_dict['code'].keys()"
   ]
  },
  {
   "cell_type": "code",
   "execution_count": 59,
   "id": "3c8dbc57-2766-4e8f-b835-c0c3fd2e5bac",
   "metadata": {
    "collapsed": true,
    "jupyter": {
     "outputs_hidden": true
    }
   },
   "outputs": [
    {
     "data": {
      "text/plain": [
       "{'Bref': 2.577853980941141,\n",
       " 'ENDIANNESS': 'LITTLE',\n",
       " 'ExBrate': 0.0,\n",
       " 'GIT_BRANCH': 'b982ac2bfe5cfcbffff1f6a7033d1b9cafbc1071                    ',\n",
       " 'GIT_MASTER': 'b982ac2bfe5cfcbffff1f6a7033d1b9cafbc1071                    ',\n",
       " 'Lref': 0.6565730869283082,\n",
       " 'OMP_NUM_THREADS': 1,\n",
       " 'Omega0_tor': 0.0,\n",
       " 'PRECISION': 'DOUBLE',\n",
       " 'RELEASE': '1.8 - alpha 0',\n",
       " 'Tref': 1.82937,\n",
       " 'adapt_lx': True,\n",
       " 'beta': 0.000242274,\n",
       " 'calc_dt': True,\n",
       " 'charge1': 1,\n",
       " 'charge2': -1,\n",
       " 'charge3': 6,\n",
       " 'coll': 1.7076475e-05,\n",
       " 'coll_cons_model': \"'self_adj'\",\n",
       " 'coll_order': \"'second'\",\n",
       " 'collision_op': \"'landau'\",\n",
       " 'comp_type': \"'IV'\",\n",
       " 'debye2': 0.0,\n",
       " 'dens1': 0.93,\n",
       " 'dens2': 1.0,\n",
       " 'dens3': 0.011666667,\n",
       " 'diag_Blev(0)': 1.329,\n",
       " 'diag_trap_levels': 1,\n",
       " 'diagdir': \"'/global/cscratch1/sd/michoski/0.7/scanfiles0000/'\",\n",
       " 'dpdx_pm': 0.0016907972,\n",
       " 'dpdx_term': \"'gradB_eq_curv'\",\n",
       " 'dt_max': 0.00305,\n",
       " 'dt_vlasov': 0.00305,\n",
       " 'ev_coll': 4.3589,\n",
       " 'ev_coll_est': 3.9556449,\n",
       " 'geomfile': \"'AUG_34626_3.71s.eqd'\",\n",
       " 'hyp_z': -1.0,\n",
       " 'hypz_compensation': True,\n",
       " 'init_cond': \"'alm'\",\n",
       " 'init_time': 1.9986,\n",
       " 'istep_energy': 50000,\n",
       " 'istep_field': 50000,\n",
       " 'istep_mom': 50000,\n",
       " 'istep_nrg': 500,\n",
       " 'istep_omega': 20,\n",
       " 'istep_schpt': 5000,\n",
       " 'istep_vsp': 50000,\n",
       " 'kx_center': 0.0,\n",
       " 'ky0_ind': 1,\n",
       " 'kymin': 0.3,\n",
       " 'lv': 3.0,\n",
       " 'lw': 9.0,\n",
       " 'lx': 2.08788,\n",
       " 'ly': 20.944,\n",
       " 'magn_geometry': \"'tracer_efit'\",\n",
       " 'major_R': 2.528147,\n",
       " 'mass1': 1.0,\n",
       " 'mass2': 0.00027244,\n",
       " 'mass3': 6.0,\n",
       " 'minor_r': 1.0,\n",
       " 'mref': 1.999007501778479,\n",
       " 'n0_global': 29,\n",
       " 'n_fields': 2,\n",
       " 'n_moms': 18,\n",
       " 'n_parallel_sims': 8,\n",
       " 'n_pol': 1,\n",
       " 'n_procs_s': 3,\n",
       " 'n_procs_sim': 48,\n",
       " 'n_procs_v': 1,\n",
       " 'n_procs_w': 8,\n",
       " 'n_procs_x': 1,\n",
       " 'n_procs_y': 1,\n",
       " 'n_procs_z': 2,\n",
       " 'n_spec': 3,\n",
       " 'name1': \"'ions'\",\n",
       " 'name2': \"'electrons'\",\n",
       " 'name3': \"'carbon'\",\n",
       " 'nblocks': 24,\n",
       " 'nky0': 1,\n",
       " 'nltdt_off': False,\n",
       " 'nonlinear': False,\n",
       " 'norm_flux_projection': False,\n",
       " 'nref': 0.218382,\n",
       " 'nrgcols': 10,\n",
       " 'ntimesteps': 1000000,\n",
       " 'nu_ei': 0.005587,\n",
       " 'number of computed time steps': 119659,\n",
       " 'nustar_e': 0.002428,\n",
       " 'nustar_i': 0.025019,\n",
       " 'nv0': 48,\n",
       " 'nw0': 16,\n",
       " 'nx0': 31,\n",
       " 'nz0': 32,\n",
       " 'omega_prec': 0.001,\n",
       " 'omn1': 0.23031821,\n",
       " 'omn2': 0.23031821,\n",
       " 'omn3': 0.23031821,\n",
       " 'omt1': 1.4784277,\n",
       " 'omt2': 1.5640602,\n",
       " 'omt3': 1.4784277,\n",
       " 'passive1': False,\n",
       " 'passive2': False,\n",
       " 'passive3': False,\n",
       " 'perf_vec': '2 2 1 2 1 1 2 1 1',\n",
       " 'q0': 2.004296,\n",
       " 'read_checkpoint': False,\n",
       " 'rhostar': 0.003644296,\n",
       " 'shat': 1.5965141,\n",
       " 'sign_Bt_CW': 1,\n",
       " 'sign_Ip_CW': 1,\n",
       " 'simtimelim': 3000.0,\n",
       " 'step_time': 0.0232,\n",
       " 'temp1': 0.22029114,\n",
       " 'temp2': 1.0,\n",
       " 'temp3': 0.22029114,\n",
       " 'time for initial value solver': 2781.498,\n",
       " 'timelim': 25286000,\n",
       " 'timescheme': \"'RK4'\",\n",
       " 'with_bxphi0': False,\n",
       " 'with_centrifugal': False,\n",
       " 'with_comoving_other': False,\n",
       " 'with_coriolis': False,\n",
       " 'write_checkpoint': True,\n",
       " 'write_std': True,\n",
       " 'x0': 0.69697}"
      ]
     },
     "execution_count": 59,
     "metadata": {},
     "output_type": "execute_result"
    }
   ],
   "source": [
    "gk_dict['code']['parameters']"
   ]
  },
  {
   "cell_type": "code",
   "execution_count": 61,
   "id": "691456d9-7bd7-464a-8723-621757958ca9",
   "metadata": {},
   "outputs": [
    {
     "data": {
      "text/plain": [
       "dict_keys(['commit', 'description', 'library', 'max_repr_length', 'name', 'output_flag', 'parameters', 'repository', 'version'])"
      ]
     },
     "execution_count": 61,
     "metadata": {},
     "output_type": "execute_result"
    }
   ],
   "source": [
    "GK_dict['code'].keys()"
   ]
  },
  {
   "cell_type": "code",
   "execution_count": 62,
   "id": "2fa06aa3-a6f0-4d9b-8d47-3ef426b6c42b",
   "metadata": {},
   "outputs": [
    {
     "data": {
      "text/plain": [
       "[{'commit': 'dfff6913005c78579aa532be6cbb3da1f9478dcc',\n",
       "  'description': '',\n",
       "  'max_repr_length': 64,\n",
       "  'name': 'pyrokinetics',\n",
       "  'parameters': '',\n",
       "  'repository': 'https://github.com/pyro-kinetics/pyrokinetics',\n",
       "  'version': '0.7.0'}]"
      ]
     },
     "execution_count": 62,
     "metadata": {},
     "output_type": "execute_result"
    }
   ],
   "source": [
    "GK_dict['code']['library']"
   ]
  },
  {
   "cell_type": "code",
   "execution_count": 63,
   "id": "f2ca3bbb-5c0e-4410-a2cc-8526b8d36456",
   "metadata": {},
   "outputs": [
    {
     "data": {
      "text/plain": [
       "dict_keys(['Bref', 'ENDIANNESS', 'ExBrate', 'GIT_BRANCH', 'GIT_MASTER', 'Lref', 'OMP_NUM_THREADS', 'Omega0_tor', 'PRECISION', 'RELEASE', 'Tref', 'adapt_lx', 'beta', 'calc_dt', 'charge1', 'charge2', 'charge3', 'coll', 'coll_cons_model', 'coll_order', 'collision_op', 'comp_type', 'debye2', 'dens1', 'dens2', 'dens3', 'diag_Blev(0)', 'diag_trap_levels', 'diagdir', 'dpdx_pm', 'dpdx_term', 'dt_max', 'dt_vlasov', 'ev_coll', 'ev_coll_est', 'geomfile', 'hyp_z', 'hypz_compensation', 'init_cond', 'init_time', 'istep_energy', 'istep_field', 'istep_mom', 'istep_nrg', 'istep_omega', 'istep_schpt', 'istep_vsp', 'kx_center', 'ky0_ind', 'kymin', 'lv', 'lw', 'lx', 'ly', 'magn_geometry', 'major_R', 'mass1', 'mass2', 'mass3', 'minor_r', 'mref', 'n0_global', 'n_fields', 'n_moms', 'n_parallel_sims', 'n_pol', 'n_procs_s', 'n_procs_sim', 'n_procs_v', 'n_procs_w', 'n_procs_x', 'n_procs_y', 'n_procs_z', 'n_spec', 'name1', 'name2', 'name3', 'nblocks', 'nky0', 'nltdt_off', 'nonlinear', 'norm_flux_projection', 'nref', 'nrgcols', 'ntimesteps', 'nu_ei', 'number of computed time steps', 'nustar_e', 'nustar_i', 'nv0', 'nw0', 'nx0', 'nz0', 'omega_prec', 'omn1', 'omn2', 'omn3', 'omt1', 'omt2', 'omt3', 'passive1', 'passive2', 'passive3', 'perf_vec', 'q0', 'read_checkpoint', 'rhostar', 'shat', 'sign_Bt_CW', 'sign_Ip_CW', 'simtimelim', 'step_time', 'temp1', 'temp2', 'temp3', 'time for initial value solver', 'timelim', 'timescheme', 'with_bxphi0', 'with_centrifugal', 'with_comoving_other', 'with_coriolis', 'write_checkpoint', 'write_std', 'x0'])"
      ]
     },
     "execution_count": 63,
     "metadata": {},
     "output_type": "execute_result"
    }
   ],
   "source": [
    "par1 = gk_dict['code']['parameters']\n",
    "par1.keys()"
   ]
  },
  {
   "cell_type": "code",
   "execution_count": 78,
   "id": "31663aff-6208-444d-ae9d-7f4aefff6a5c",
   "metadata": {},
   "outputs": [
    {
     "data": {
      "text/plain": [
       "False"
      ]
     },
     "execution_count": 78,
     "metadata": {},
     "output_type": "execute_result"
    }
   ],
   "source": [
    "key2 = 'charge'\n",
    "key2 in par1.keys()"
   ]
  },
  {
   "cell_type": "code",
   "execution_count": 64,
   "id": "639f15b2-43f1-4e5c-9277-a45e25b709cb",
   "metadata": {
    "scrolled": true
   },
   "outputs": [],
   "source": [
    "# GK_dict['ids_properties']\n",
    "par2 = xmltodict.parse(GK_dict['code']['parameters'])"
   ]
  },
  {
   "cell_type": "code",
   "execution_count": 70,
   "id": "114a503f-230b-4706-9a8c-a072f381ba5e",
   "metadata": {},
   "outputs": [
    {
     "data": {
      "text/plain": [
       "dict_keys(['parallelization', 'box', 'in_out', 'general', 'geometry', 'species', 'info', 'units', 'bsgrid'])"
      ]
     },
     "execution_count": 70,
     "metadata": {},
     "output_type": "execute_result"
    }
   ],
   "source": [
    "par2['root'].keys()"
   ]
  },
  {
   "cell_type": "code",
   "execution_count": 74,
   "id": "81b76255-c780-4a98-9061-29e4a02e5a73",
   "metadata": {
    "collapsed": true,
    "jupyter": {
     "outputs_hidden": true
    },
    "scrolled": true
   },
   "outputs": [
    {
     "data": {
      "text/plain": [
       "['n_procs_s',\n",
       " 'n_procs_v',\n",
       " 'n_procs_w',\n",
       " 'n_procs_x',\n",
       " 'n_procs_y',\n",
       " 'n_procs_z',\n",
       " 'n_procs_sim',\n",
       " 'n_parallel_sims',\n",
       " 'n_spec',\n",
       " 'nx0',\n",
       " 'nky0',\n",
       " 'nz0',\n",
       " 'nv0',\n",
       " 'nw0',\n",
       " 'kymin',\n",
       " 'lv',\n",
       " 'lw',\n",
       " 'adapt_lx',\n",
       " 'x0',\n",
       " 'n0_global',\n",
       " 'ky0_ind',\n",
       " 'diagdir',\n",
       " 'read_checkpoint',\n",
       " 'write_checkpoint',\n",
       " 'istep_field',\n",
       " 'istep_mom',\n",
       " 'istep_nrg',\n",
       " 'istep_omega',\n",
       " 'istep_vsp',\n",
       " 'istep_schpt',\n",
       " 'istep_energy',\n",
       " 'write_std',\n",
       " 'iterdb_file',\n",
       " 'nonlinear',\n",
       " 'comp_type',\n",
       " 'perf_vec',\n",
       " 'nblocks',\n",
       " 'arakawa_zv',\n",
       " 'timescheme',\n",
       " 'dt_max',\n",
       " 'dt_vlasov',\n",
       " 'ev_coll',\n",
       " 'timelim',\n",
       " 'ntimesteps',\n",
       " 'beta',\n",
       " 'debye2',\n",
       " 'collision_op',\n",
       " 'coll',\n",
       " 'coll_cons_model',\n",
       " 'init_cond',\n",
       " 'hyp_z_with_dz_prefactor',\n",
       " 'hyp_z',\n",
       " 'hyp_v_with_dv_prefactor',\n",
       " 'hyp_v',\n",
       " 'perf_tsteps',\n",
       " 'magn_geometry',\n",
       " 'q0',\n",
       " 'shat',\n",
       " 'geomdir',\n",
       " 'geomfile',\n",
       " 'edge_opt',\n",
       " 'minor_r',\n",
       " 'major_r',\n",
       " 'rhostar',\n",
       " 'dpdx_term',\n",
       " 'dpdx_pm',\n",
       " 'norm_flux_projection',\n",
       " {'name': 'i',\n",
       "  'omn': '5.9963121',\n",
       "  'omt': '2.8994479',\n",
       "  'mass': '1.0',\n",
       "  'temp': '1.4903085',\n",
       "  'dens': '0.45278531',\n",
       "  'charge': '1.0'},\n",
       " {'name': 'e',\n",
       "  'omn': '5.112098',\n",
       "  'omt': '11.44119',\n",
       "  'mass': '0.0002724',\n",
       "  'temp': '1.0',\n",
       "  'dens': '1.0',\n",
       "  'charge': '-1.0'},\n",
       " {'name': 'c',\n",
       "  'omn': '4.3804671',\n",
       "  'omt': '2.8994479',\n",
       "  'mass': '6.0',\n",
       "  'temp': '1.4903085',\n",
       "  'dens': '0.091202449',\n",
       "  'charge': '6.0'},\n",
       " 'step_time',\n",
       " 'steps',\n",
       " 'solver',\n",
       " 'calc_dt',\n",
       " 'nltdt_off',\n",
       " 'ev_coll_est',\n",
       " 'init_time',\n",
       " 'n_fields',\n",
       " 'n_moms',\n",
       " 'nrgcols',\n",
       " 'lx',\n",
       " 'ly',\n",
       " 'precision',\n",
       " 'endianness',\n",
       " 'omp_num_threads',\n",
       " 'git_branch',\n",
       " 'release',\n",
       " 'nu_ei',\n",
       " 'nustar_i',\n",
       " 'nustar_e',\n",
       " 'bref',\n",
       " 'tref',\n",
       " 'nref',\n",
       " 'lref',\n",
       " 'mref',\n",
       " 'is_bsg']"
      ]
     },
     "execution_count": 74,
     "metadata": {},
     "output_type": "execute_result"
    }
   ],
   "source": [
    "[ky2 for ky1 in par2['root'].keys() for ky2 in par2['root'][ky1]]"
   ]
  },
  {
   "cell_type": "code",
   "execution_count": 97,
   "id": "1f951bd3-7876-437c-a934-83d38addc1b9",
   "metadata": {},
   "outputs": [],
   "source": [
    "def f_get_dict_all_keys(dict1):\n",
    "    '''\n",
    "    Module to get lowest keys in dict hierarchy\n",
    "    '''\n",
    "    keys_lst =[] \n",
    "    \n",
    "    if isinstance(dict1,dict):\n",
    "        for i,j in dict1.items():\n",
    "            if not isinstance(j,dict):\n",
    "                keys_lst.append(i)\n",
    "                if (isinstance(j,list) and len(j)>0):\n",
    "                    if isinstance(j[0],dict):\n",
    "                        keys_lst.extend( f_get_dict_all_keys(j[0]) )\n",
    "            else: \n",
    "                keys_lst.extend( f_get_dict_all_keys(j) ) \n",
    "\n",
    "    return keys_lst\n",
    "\n",
    "keys_par2 = f_get_dict_all_keys(par2)"
   ]
  },
  {
   "cell_type": "code",
   "execution_count": null,
   "id": "73e1c0af-04e3-40f0-83bf-d04a9b1e97c9",
   "metadata": {},
   "outputs": [],
   "source": []
  },
  {
   "cell_type": "code",
   "execution_count": 98,
   "id": "55cc592d-c6a5-4d04-919c-052b316a14d5",
   "metadata": {},
   "outputs": [
    {
     "data": {
      "text/plain": [
       "(125, 101)"
      ]
     },
     "execution_count": 98,
     "metadata": {},
     "output_type": "execute_result"
    }
   ],
   "source": [
    "len(par1.keys()),len(keys_par2)"
   ]
  },
  {
   "cell_type": "code",
   "execution_count": 100,
   "id": "b80e8c4c-801f-4d59-a003-9525fb0daba0",
   "metadata": {},
   "outputs": [],
   "source": [
    "common = [i for i in par1.keys() if i in keys_par2]\n",
    "not_in_new = [i for i in par1.keys() if i not in keys_par2]\n",
    "not_in_old = [i for i in keys_par2 if i not in par1.keys()]"
   ]
  },
  {
   "cell_type": "code",
   "execution_count": 101,
   "id": "087ee4ce-b456-410d-aa4e-0ced433138f1",
   "metadata": {},
   "outputs": [
    {
     "data": {
      "text/plain": [
       "(73, 52, 28)"
      ]
     },
     "execution_count": 101,
     "metadata": {},
     "output_type": "execute_result"
    }
   ],
   "source": [
    "len(common),len(not_in_new),len(not_in_old)"
   ]
  },
  {
   "cell_type": "code",
   "execution_count": 93,
   "id": "fbfaa7f3-a037-4f04-80c8-2fa466515e2b",
   "metadata": {
    "scrolled": true
   },
   "outputs": [],
   "source": [
    "# f_print_dict_struct(par2,0)"
   ]
  }
 ],
 "metadata": {
  "kernelspec": {
   "display_name": "mlpy38",
   "language": "python",
   "name": "mlpy38"
  },
  "language_info": {
   "codemirror_mode": {
    "name": "ipython",
    "version": 3
   },
   "file_extension": ".py",
   "mimetype": "text/x-python",
   "name": "python",
   "nbconvert_exporter": "python",
   "pygments_lexer": "ipython3",
   "version": "3.8.19"
  }
 },
 "nbformat": 4,
 "nbformat_minor": 5
}
