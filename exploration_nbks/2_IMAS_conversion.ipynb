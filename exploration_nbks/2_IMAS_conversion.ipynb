{
 "cells": [
  {
   "cell_type": "markdown",
   "id": "63c9b7e9-7180-45ff-80bf-779e6bbb2d4a",
   "metadata": {},
   "source": [
    "## Convert old IMAS at NERSC to new IMAS \n",
    "June 21, 2024 \n",
    "\n",
    "Venkitesh Ayyar"
   ]
  },
  {
   "cell_type": "code",
   "execution_count": 23,
   "id": "d1bc1146-ec95-435b-b4b9-11bdcdc4e1b5",
   "metadata": {
    "tags": []
   },
   "outputs": [],
   "source": [
    "import numpy as np\n",
    "import datetime\n",
    "import os\n",
    "\n",
    "import pymongo\n",
    "import pprint\n",
    "from bson.objectid import ObjectId\n",
    "\n",
    "import yaml\n",
    "import json"
   ]
  },
  {
   "cell_type": "code",
   "execution_count": 2,
   "id": "066d541e-02e7-4df3-a5fa-fc9be358fd1d",
   "metadata": {
    "tags": []
   },
   "outputs": [],
   "source": [
    "# ## Convert json to yaml for easy viewing\n",
    "# with open('gyrokinetics_new.json', 'r') as j:\n",
    "#     GK_dict = json.loads(j.read())\n",
    "    \n",
    "# with open('gyrokinetics_new.yaml','w') as f:\n",
    "#     yaml.dump(GK_dict,f,default_flow_style=False)"
   ]
  },
  {
   "cell_type": "code",
   "execution_count": 3,
   "id": "9f8db632-b191-4b9d-9509-7868f609fe3c",
   "metadata": {
    "tags": []
   },
   "outputs": [],
   "source": [
    "import xmltodict"
   ]
  },
  {
   "cell_type": "markdown",
   "id": "5ffd6bcf-9880-4c4c-b279-fcdc3907a6df",
   "metadata": {
    "tags": []
   },
   "source": [
    "## Load both yaml files"
   ]
  },
  {
   "cell_type": "code",
   "execution_count": 4,
   "id": "38bce154-5428-49e2-abd7-1b5b9ce76922",
   "metadata": {
    "tags": []
   },
   "outputs": [],
   "source": [
    "fname='gyro_imas_old.yaml'\n",
    "with open(fname,'r') as f:\n",
    "    gk_dict = yaml.safe_load(f)\n",
    "    \n",
    "fname='gyro_imas_new.yaml'\n",
    "with open(fname,'r') as f:\n",
    "    GK_dict = yaml.safe_load(f)"
   ]
  },
  {
   "cell_type": "code",
   "execution_count": 5,
   "id": "43c41130-e37d-4456-8e8c-f5585b110824",
   "metadata": {
    "tags": []
   },
   "outputs": [
    {
     "name": "stdout",
     "output_type": "stream",
     "text": [
      "dict_keys(['code', 'collisions', 'flux_surface', 'fluxes_integrated_norm', 'ids_properties', 'model', 'species', 'species_all', 'wavevector']) \n",
      " dict_keys(['code', 'collisions', 'flux_surface', 'ids_properties', 'linear', 'max_repr_length', 'model', 'non_linear', 'normalizing_quantities', 'species', 'species_all', 'time', 'version'])\n"
     ]
    }
   ],
   "source": [
    "print(gk_dict.keys(),'\\n',GK_dict.keys())"
   ]
  },
  {
   "cell_type": "code",
   "execution_count": null,
   "id": "39920c12-b53c-45f8-9728-6d681492ee59",
   "metadata": {
    "tags": []
   },
   "outputs": [],
   "source": []
  },
  {
   "cell_type": "markdown",
   "id": "00ecaea9-fc14-4550-b4d4-0a26886e4cc7",
   "metadata": {
    "tags": []
   },
   "source": [
    "## Print dictionary hierarchy"
   ]
  },
  {
   "cell_type": "code",
   "execution_count": 6,
   "id": "6ef1ad64-2209-4198-b055-6f75cff5792f",
   "metadata": {
    "tags": []
   },
   "outputs": [],
   "source": [
    "def f_print_dict_struct(dict1,tab_count=0):\n",
    "    if isinstance(dict1,dict):\n",
    "        for i,j in dict1.items():\n",
    "            if not isinstance(j,dict):\n",
    "                print('\\t'*tab_count, i,'\\t',type(j))\n",
    "                if (isinstance(j,list) and len(j)>0):\n",
    "                    if isinstance(j[0],dict):\n",
    "                        print('\\t'*tab_count,i,'[0]:')                    \n",
    "                        f_print_dict_struct(j[0],tab_count+1)\n",
    "            else: \n",
    "                # print('\\t'*tab_count,\"------------\")\n",
    "                print('\\t'*tab_count,i,':')\n",
    "                f_print_dict_struct(j, tab_count+1)\n",
    "\n",
    "                \n",
    "# f_print_dict_struct(gk_dict,0)\n",
    "\n",
    "# f_print_dict_struct(GK_dict,0)\n",
    "    "
   ]
  },
  {
   "cell_type": "code",
   "execution_count": null,
   "id": "a827db03-08e4-41bd-aeff-961c32457592",
   "metadata": {
    "tags": []
   },
   "outputs": [],
   "source": [
    "for key in GK_dict.keys():\n",
    "    print(key)"
   ]
  },
  {
   "cell_type": "code",
   "execution_count": null,
   "id": "452ec15b-4874-49e7-8858-b3dea36fcdd5",
   "metadata": {
    "tags": []
   },
   "outputs": [],
   "source": [
    "gk_dict['code']['parameters']"
   ]
  },
  {
   "cell_type": "code",
   "execution_count": null,
   "id": "29ce9809-5cc0-4a67-9e30-f2132b37da9f",
   "metadata": {
    "tags": []
   },
   "outputs": [],
   "source": [
    "GK_dict['code']['parameters']"
   ]
  },
  {
   "cell_type": "code",
   "execution_count": null,
   "id": "a183440f-eb0e-4c9c-9648-58be1638c85d",
   "metadata": {
    "scrolled": true,
    "tags": []
   },
   "outputs": [],
   "source": [
    "xmltodict.parse(GK_dict['code']['parameters'])"
   ]
  },
  {
   "cell_type": "code",
   "execution_count": null,
   "id": "7049185f-9835-4555-a7ca-d5b404c07835",
   "metadata": {
    "tags": []
   },
   "outputs": [],
   "source": [
    "keys='code'\n",
    "for key in gk_dict[keys]:\n",
    "    print(key)\n",
    "print('\\n\\n')\n",
    "for key in GK_dict[keys]:\n",
    "    print(key)"
   ]
  },
  {
   "cell_type": "code",
   "execution_count": null,
   "id": "32ff0e36-b4c6-4cf4-b58a-f963f083c64e",
   "metadata": {
    "tags": []
   },
   "outputs": [],
   "source": [
    "GK_dict[keys].keys(),gk_dict[keys].keys()"
   ]
  },
  {
   "cell_type": "code",
   "execution_count": null,
   "id": "7d04c915-ed47-453f-84a0-07aff4a39f95",
   "metadata": {
    "tags": []
   },
   "outputs": [],
   "source": [
    "gk_dict['species'][0].keys()"
   ]
  },
  {
   "cell_type": "code",
   "execution_count": null,
   "id": "5599fce2-ff89-457d-8fc8-158a6e2772d8",
   "metadata": {
    "tags": []
   },
   "outputs": [],
   "source": [
    "GK_dict['species'][0].keys()"
   ]
  },
  {
   "cell_type": "code",
   "execution_count": null,
   "id": "38bfeb66-adde-4304-beab-7f9c79afd31c",
   "metadata": {},
   "outputs": [],
   "source": [
    "gk_dict.keys()\n"
   ]
  },
  {
   "cell_type": "code",
   "execution_count": null,
   "id": "11fe39d6-6f9e-47e8-ba99-eac89965561e",
   "metadata": {
    "tags": []
   },
   "outputs": [],
   "source": [
    "# ## modification for species \n",
    "# key1='species'\n",
    "\n",
    "# common_keys   = [i for i in gk_dict[key1][0].keys() if i in GK_dict[key1][0].keys()]\n",
    "# old_only_keys = [i for i in gk_dict[key1][0].keys() if i not in GK_dict[key1][0].keys()]\n",
    "# new_only_keys = [i for i in GK_dict[key1][0].keys() if i not in gk_dict[key1][0].keys()]\n",
    "\n",
    "# print(common_keys,'\\n\\n',old_only_keys,'\\n\\n',new_only_keys)\n"
   ]
  },
  {
   "cell_type": "code",
   "execution_count": null,
   "id": "10a65a22-e2c6-49aa-b5f9-62eefea4af69",
   "metadata": {
    "tags": []
   },
   "outputs": [],
   "source": [
    "key1='ids_properties'\n",
    "\n",
    "common_keys   = [i for i in gk_dict[key1].keys() if i in GK_dict[key1].keys()]\n",
    "old_only_keys = [i for i in gk_dict[key1].keys() if i not in GK_dict[key1].keys()]\n",
    "new_only_keys = [i for i in GK_dict[key1].keys() if i not in gk_dict[key1].keys()]\n",
    "\n",
    "print(common_keys,'\\n\\n',old_only_keys,'\\n\\n',new_only_keys)\n",
    "\n",
    "# for i in common_keys: \n",
    "#     print(i,'\\t',gk_dict[key1][i],'\\t',GK_dict[key1][i],'\\n')\n",
    "\n",
    "# for i in old_only_keys:\n",
    "#     print(i, gk_dict[key1][i])\n",
    "    \n",
    "# for i in new_only_keys:\n",
    "#     print(i, GK_dict[key1][i])"
   ]
  },
  {
   "cell_type": "code",
   "execution_count": null,
   "id": "ec641165-6365-48d0-8565-605dd20ca3b7",
   "metadata": {
    "tags": []
   },
   "outputs": [],
   "source": [
    "def f_collisions(old_gk,new_gk):\n",
    "    ''' conversion for key: collisions '''\n",
    "    \n",
    "    dict1={}\n",
    "    for key in ['max_repr_length','version']: \n",
    "        dict1[key] = new_gk[key]\n",
    "    \n",
    "    dict1['collisionality_norm']=old_gk['collisionality_norm']\n",
    "    \n",
    "    return dict1\n",
    "\n",
    "def f_flux_surface(old_gk, new_gk):\n",
    "    ''' conversion for key: flux_surface '''\n",
    "    \n",
    "    dict1={}\n",
    "    \n",
    "    ## Old keys not present \n",
    "    keys = ['triangularity_lower', 'triangularity_upper']\n",
    "    \n",
    "    ## New keys not present in old \n",
    "    keys = ['delongation_dr_minor_norm', 'dgeometric_axis_r_dr_minor', 'dgeometric_axis_z_dr_minor', 'max_repr_length', 'version']\n",
    "    for key in keys:\n",
    "        dict1[key] = new_gk[key]\n",
    "    \n",
    "    ## Common keys \n",
    "    common_keys = ['b_field_tor_sign', 'dc_dr_minor_norm', 'ds_dr_minor_norm', 'elongation', 'ip_sign', 'magnetic_shear_r_minor', 'pressure_gradient_norm', 'q', 'r_minor_norm', 'shape_coefficients_c', 'shape_coefficients_s']\n",
    "    \n",
    "    for key in common_keys:\n",
    "        dict1[key] = old_gk[key]\n",
    "        \n",
    "    return dict1\n",
    "\n",
    "def f_species_all(old_gk, new_gk):\n",
    "    ''' conversion for key: species_all '''\n",
    "    \n",
    "    dict1={}\n",
    "    \n",
    "    ## Old keys not present \n",
    "    keys =  ['debye_length_reference', 'zeff'] \n",
    "    \n",
    "    ## New keys not present in old \n",
    "    keys = ['angle_pol', 'debye_length_norm', 'max_repr_length', 'version']\n",
    "    for key in keys:\n",
    "        dict1[key] = new_gk[key]\n",
    "    \n",
    "    ## Common keys \n",
    "    common_keys = ['beta_reference', 'shearing_rate_norm', 'velocity_tor_norm'] \n",
    "\n",
    "    for key in common_keys:\n",
    "        dict1[key] = old_gk[key]\n",
    "        \n",
    "    return dict1\n",
    "\n",
    "def f_species(old_gk_lst, new_gk_lst):\n",
    "    ''' conversion for key: species '''\n",
    "    \n",
    "    lst=[]\n",
    "    \n",
    "    \n",
    "    for old_d,new_d in zip(old_gk_lst,new_gk_lst):\n",
    "        dict1={}\n",
    "        ## Old keys not present \n",
    "        keys =  ['name'] \n",
    "\n",
    "        ## New keys not present in old \n",
    "        keys = ['max_repr_length', 'potential_energy_gradient_norm', 'potential_energy_norm', 'version']\n",
    "        for key in keys:\n",
    "            dict1[key] = new_d[key]\n",
    "\n",
    "        ## Common keys \n",
    "        common_keys = ['charge_norm', 'density_log_gradient_norm', 'density_norm', 'mass_norm', 'temperature_log_gradient_norm', 'temperature_norm', 'velocity_tor_gradient_norm'] \n",
    "\n",
    "        for key in common_keys:\n",
    "            dict1[key] = old_d[key]\n",
    "            \n",
    "        lst.append(dict1)\n",
    "            \n",
    "    return lst\n",
    "\n",
    "\n",
    "def f_ids_properties(old_gk, new_gk):\n",
    "    ''' conversion for key: ids_properties '''\n",
    "    dict1={}\n",
    "    \n",
    "    ## Old keys not present \n",
    "    keys = ['creator', 'date'] \n",
    "    \n",
    "    ## New keys not present in old \n",
    "    keys = ['creation_date', 'homogeneous_time', 'max_repr_length', 'name', 'occurrence_type', 'provenance', 'provider', 'version']\n",
    "    for key in keys:\n",
    "        dict1[key] = new_gk[key]\n",
    "    \n",
    "    ## Common keys \n",
    "    common_keys = ['comment'] \n",
    "\n",
    "    for key in common_keys[:]:\n",
    "        dict1[key] = old_gk[key]\n",
    "        \n",
    "    ## Special fixes\n",
    "    dict1['creation_data']=old_gk['date']\n",
    "    dict1['provider'] = 'manual'\n",
    "    \n",
    "    ## Note: 'creator' not used. Should it be stored in 'name' ? \n",
    "    # dict1['name'] = old_gk['creator']\n",
    "\n",
    "    return dict1\n",
    "\n",
    "\n",
    "# f_species(gk_dict['species'],GK_dict['species'])\n",
    "f_ids_properties(gk_dict['ids_properties'],GK_dict['ids_properties'])\n"
   ]
  },
  {
   "cell_type": "code",
   "execution_count": null,
   "id": "a516c7a8-d279-4ae7-a1a1-5714a0459b92",
   "metadata": {
    "tags": []
   },
   "outputs": [],
   "source": [
    "GK_dict['non_linear']"
   ]
  },
  {
   "cell_type": "code",
   "execution_count": 7,
   "id": "a05892f5-2909-4872-be88-5d28cbb78777",
   "metadata": {
    "tags": []
   },
   "outputs": [
    {
     "data": {
      "text/plain": [
       "dict_keys(['code', 'collisions', 'flux_surface', 'fluxes_integrated_norm', 'ids_properties', 'model', 'species', 'species_all', 'wavevector'])"
      ]
     },
     "execution_count": 7,
     "metadata": {},
     "output_type": "execute_result"
    }
   ],
   "source": [
    "gk_dict.keys()"
   ]
  },
  {
   "cell_type": "code",
   "execution_count": 21,
   "id": "60581e9b-ec88-4335-b8d5-c4b17f33e4e1",
   "metadata": {
    "tags": []
   },
   "outputs": [
    {
     "data": {
      "text/plain": [
       "dict_keys(['a_field_parallel_perturbed_norm_imaginary', 'a_field_parallel_perturbed_norm_real', 'fluxes_norm', 'frequency_norm', 'growth_rate_norm', 'growth_rate_tolerance', 'moments_norm_rotating_frame', 'phi_potential_perturbed_norm_imaginary', 'phi_potential_perturbed_norm_real', 'poloidal_angle'])"
      ]
     },
     "execution_count": 21,
     "metadata": {},
     "output_type": "execute_result"
    }
   ],
   "source": [
    "gk_dict['wavevector'][0].keys()\n",
    "gk_dict['wavevector'][0]['eigenmode'][0].keys()\n",
    "\n",
    "# gk_dict['wavevector'][0]['radial_component_norm']\n",
    "# eigenmode is very large "
   ]
  },
  {
   "cell_type": "code",
   "execution_count": null,
   "id": "0e8b87e8-f069-4834-9a29-46c3ef510296",
   "metadata": {
    "tags": []
   },
   "outputs": [],
   "source": [
    "GK_dict['linear']['wavevector'][0].keys()"
   ]
  },
  {
   "cell_type": "code",
   "execution_count": 22,
   "id": "f9885ea3-0465-4867-95ad-f7fb26e5dc17",
   "metadata": {
    "tags": []
   },
   "outputs": [
    {
     "data": {
      "text/plain": [
       "dict_keys(['max_repr_length', 'version', 'wavevector'])"
      ]
     },
     "execution_count": 22,
     "metadata": {},
     "output_type": "execute_result"
    }
   ],
   "source": [
    "GK_dict['linear']['wavevector'][0]['version'"
   ]
  },
  {
   "cell_type": "code",
   "execution_count": 17,
   "id": "00d5f15c-43b6-4ce4-9a0b-d9f263144a74",
   "metadata": {
    "tags": []
   },
   "outputs": [
    {
     "data": {
      "text/plain": [
       "dict_keys(['angle_pol', 'code', 'fields', 'frequency_norm', 'growth_rate_norm', 'growth_rate_tolerance', 'initial_value_run', 'linear_weights', 'linear_weights_rotating_frame', 'max_repr_length', 'moments_norm_gyrocenter', 'moments_norm_gyrocenter_bessel_0', 'moments_norm_gyrocenter_bessel_1', 'moments_norm_particle', 'poloidal_turns', 'time_norm', 'version'])"
      ]
     },
     "execution_count": 17,
     "metadata": {},
     "output_type": "execute_result"
    }
   ],
   "source": [
    "GK_dict['linear']['wavevector'][0]['eigenmode'][0].keys()"
   ]
  },
  {
   "cell_type": "code",
   "execution_count": null,
   "id": "f35b274c-9b88-4577-b072-0e144e345be3",
   "metadata": {},
   "outputs": [],
   "source": []
  },
  {
   "cell_type": "code",
   "execution_count": null,
   "id": "80919d84-1b21-4378-805b-0edcd8f3cf0a",
   "metadata": {},
   "outputs": [],
   "source": []
  },
  {
   "cell_type": "code",
   "execution_count": null,
   "id": "3c8dbc57-2766-4e8f-b835-c0c3fd2e5bac",
   "metadata": {},
   "outputs": [],
   "source": []
  },
  {
   "cell_type": "markdown",
   "id": "2685cf22-ae2d-4fad-89cc-f4fd06c10820",
   "metadata": {},
   "source": [
    "## to do : \n",
    "- wavevector\n",
    "- code"
   ]
  },
  {
   "cell_type": "code",
   "execution_count": 31,
   "id": "f2ca3bbb-5c0e-4410-a2cc-8526b8d36456",
   "metadata": {},
   "outputs": [
    {
     "data": {
      "text/plain": [
       "dict_keys(['Bref', 'ENDIANNESS', 'ExBrate', 'GIT_BRANCH', 'GIT_MASTER', 'Lref', 'OMP_NUM_THREADS', 'Omega0_tor', 'PRECISION', 'RELEASE', 'Tref', 'adapt_lx', 'beta', 'calc_dt', 'charge1', 'charge2', 'charge3', 'coll', 'coll_cons_model', 'coll_order', 'collision_op', 'comp_type', 'debye2', 'dens1', 'dens2', 'dens3', 'diag_Blev(0)', 'diag_trap_levels', 'diagdir', 'dpdx_pm', 'dpdx_term', 'dt_max', 'dt_vlasov', 'ev_coll', 'ev_coll_est', 'geomfile', 'hyp_z', 'hypz_compensation', 'init_cond', 'init_time', 'istep_energy', 'istep_field', 'istep_mom', 'istep_nrg', 'istep_omega', 'istep_schpt', 'istep_vsp', 'kx_center', 'ky0_ind', 'kymin', 'lv', 'lw', 'lx', 'ly', 'magn_geometry', 'major_R', 'mass1', 'mass2', 'mass3', 'minor_r', 'mref', 'n0_global', 'n_fields', 'n_moms', 'n_parallel_sims', 'n_pol', 'n_procs_s', 'n_procs_sim', 'n_procs_v', 'n_procs_w', 'n_procs_x', 'n_procs_y', 'n_procs_z', 'n_spec', 'name1', 'name2', 'name3', 'nblocks', 'nky0', 'nltdt_off', 'nonlinear', 'norm_flux_projection', 'nref', 'nrgcols', 'ntimesteps', 'nu_ei', 'number of computed time steps', 'nustar_e', 'nustar_i', 'nv0', 'nw0', 'nx0', 'nz0', 'omega_prec', 'omn1', 'omn2', 'omn3', 'omt1', 'omt2', 'omt3', 'passive1', 'passive2', 'passive3', 'perf_vec', 'q0', 'read_checkpoint', 'rhostar', 'shat', 'sign_Bt_CW', 'sign_Ip_CW', 'simtimelim', 'step_time', 'temp1', 'temp2', 'temp3', 'time for initial value solver', 'timelim', 'timescheme', 'with_bxphi0', 'with_centrifugal', 'with_comoving_other', 'with_coriolis', 'write_checkpoint', 'write_std', 'x0'])"
      ]
     },
     "execution_count": 31,
     "metadata": {},
     "output_type": "execute_result"
    }
   ],
   "source": [
    "par1 = gk_dict['code']['parameters']\n",
    "par1.keys()"
   ]
  },
  {
   "cell_type": "code",
   "execution_count": 33,
   "id": "639f15b2-43f1-4e5c-9277-a45e25b709cb",
   "metadata": {
    "scrolled": true
   },
   "outputs": [],
   "source": [
    "# GK_dict['ids_properties']\n",
    "par2 = xmltodict.parse(GK_dict['code']['parameters'])"
   ]
  },
  {
   "cell_type": "code",
   "execution_count": null,
   "id": "114a503f-230b-4706-9a8c-a072f381ba5e",
   "metadata": {},
   "outputs": [],
   "source": [
    "a"
   ]
  },
  {
   "cell_type": "code",
   "execution_count": null,
   "id": "81b76255-c780-4a98-9061-29e4a02e5a73",
   "metadata": {},
   "outputs": [],
   "source": []
  },
  {
   "cell_type": "code",
   "execution_count": null,
   "id": "04a43a7d-a100-4a88-b4d1-abccc48a183a",
   "metadata": {},
   "outputs": [],
   "source": []
  },
  {
   "cell_type": "code",
   "execution_count": 36,
   "id": "912f5ee8-d8f6-46ad-86ce-006d81c64537",
   "metadata": {},
   "outputs": [
    {
     "data": {
      "text/plain": [
       "dict_keys(['parallelization', 'box', 'in_out', 'general', 'geometry', 'species', 'info', 'units', 'bsgrid'])"
      ]
     },
     "execution_count": 36,
     "metadata": {},
     "output_type": "execute_result"
    }
   ],
   "source": [
    "par2['root'].keys()"
   ]
  },
  {
   "cell_type": "code",
   "execution_count": null,
   "id": "1f951bd3-7876-437c-a934-83d38addc1b9",
   "metadata": {},
   "outputs": [],
   "source": []
  },
  {
   "cell_type": "code",
   "execution_count": 37,
   "id": "fbfaa7f3-a037-4f04-80c8-2fa466515e2b",
   "metadata": {},
   "outputs": [
    {
     "name": "stdout",
     "output_type": "stream",
     "text": [
      " root :\n",
      "\t parallelization :\n",
      "\t\t n_procs_s \t <class 'str'>\n",
      "\t\t n_procs_v \t <class 'str'>\n",
      "\t\t n_procs_w \t <class 'str'>\n",
      "\t\t n_procs_x \t <class 'str'>\n",
      "\t\t n_procs_y \t <class 'str'>\n",
      "\t\t n_procs_z \t <class 'str'>\n",
      "\t\t n_procs_sim \t <class 'str'>\n",
      "\t\t n_parallel_sims \t <class 'str'>\n",
      "\t box :\n",
      "\t\t n_spec \t <class 'str'>\n",
      "\t\t nx0 \t <class 'str'>\n",
      "\t\t nky0 \t <class 'str'>\n",
      "\t\t nz0 \t <class 'str'>\n",
      "\t\t nv0 \t <class 'str'>\n",
      "\t\t nw0 \t <class 'str'>\n",
      "\t\t kymin \t <class 'str'>\n",
      "\t\t lv \t <class 'str'>\n",
      "\t\t lw \t <class 'str'>\n",
      "\t\t adapt_lx \t <class 'str'>\n",
      "\t\t x0 \t <class 'str'>\n",
      "\t\t n0_global \t <class 'str'>\n",
      "\t\t ky0_ind \t <class 'str'>\n",
      "\t in_out :\n",
      "\t\t diagdir \t <class 'str'>\n",
      "\t\t read_checkpoint \t <class 'str'>\n",
      "\t\t write_checkpoint \t <class 'str'>\n",
      "\t\t istep_field \t <class 'str'>\n",
      "\t\t istep_mom \t <class 'str'>\n",
      "\t\t istep_nrg \t <class 'str'>\n",
      "\t\t istep_omega \t <class 'str'>\n",
      "\t\t istep_vsp \t <class 'str'>\n",
      "\t\t istep_schpt \t <class 'str'>\n",
      "\t\t istep_energy \t <class 'str'>\n",
      "\t\t write_std \t <class 'str'>\n",
      "\t\t iterdb_file \t <class 'str'>\n",
      "\t general :\n",
      "\t\t nonlinear \t <class 'str'>\n",
      "\t\t comp_type \t <class 'str'>\n",
      "\t\t perf_vec \t <class 'list'>\n",
      "\t\t nblocks \t <class 'str'>\n",
      "\t\t arakawa_zv \t <class 'str'>\n",
      "\t\t timescheme \t <class 'str'>\n",
      "\t\t dt_max \t <class 'str'>\n",
      "\t\t dt_vlasov \t <class 'str'>\n",
      "\t\t ev_coll \t <class 'str'>\n",
      "\t\t timelim \t <class 'str'>\n",
      "\t\t ntimesteps \t <class 'str'>\n",
      "\t\t beta \t <class 'str'>\n",
      "\t\t debye2 \t <class 'str'>\n",
      "\t\t collision_op \t <class 'str'>\n",
      "\t\t coll \t <class 'str'>\n",
      "\t\t coll_cons_model \t <class 'str'>\n",
      "\t\t init_cond \t <class 'str'>\n",
      "\t\t hyp_z_with_dz_prefactor \t <class 'str'>\n",
      "\t\t hyp_z \t <class 'str'>\n",
      "\t\t hyp_v_with_dv_prefactor \t <class 'str'>\n",
      "\t\t hyp_v \t <class 'str'>\n",
      "\t\t perf_tsteps \t <class 'str'>\n",
      "\t geometry :\n",
      "\t\t magn_geometry \t <class 'str'>\n",
      "\t\t q0 \t <class 'str'>\n",
      "\t\t shat \t <class 'str'>\n",
      "\t\t geomdir \t <class 'str'>\n",
      "\t\t geomfile \t <class 'str'>\n",
      "\t\t edge_opt \t <class 'str'>\n",
      "\t\t minor_r \t <class 'str'>\n",
      "\t\t major_r \t <class 'str'>\n",
      "\t\t rhostar \t <class 'str'>\n",
      "\t\t dpdx_term \t <class 'str'>\n",
      "\t\t dpdx_pm \t <class 'str'>\n",
      "\t\t norm_flux_projection \t <class 'str'>\n",
      "\t species \t <class 'list'>\n",
      "\t species [0]:\n",
      "\t\t name \t <class 'str'>\n",
      "\t\t omn \t <class 'str'>\n",
      "\t\t omt \t <class 'str'>\n",
      "\t\t mass \t <class 'str'>\n",
      "\t\t temp \t <class 'str'>\n",
      "\t\t dens \t <class 'str'>\n",
      "\t\t charge \t <class 'str'>\n",
      "\t info :\n",
      "\t\t step_time \t <class 'list'>\n",
      "\t\t steps \t <class 'list'>\n",
      "\t\t solver \t <class 'str'>\n",
      "\t\t calc_dt \t <class 'str'>\n",
      "\t\t nltdt_off \t <class 'str'>\n",
      "\t\t ev_coll_est \t <class 'str'>\n",
      "\t\t init_time \t <class 'str'>\n",
      "\t\t n_fields \t <class 'str'>\n",
      "\t\t n_moms \t <class 'str'>\n",
      "\t\t nrgcols \t <class 'str'>\n",
      "\t\t lx \t <class 'str'>\n",
      "\t\t ly \t <class 'str'>\n",
      "\t\t precision \t <class 'str'>\n",
      "\t\t endianness \t <class 'str'>\n",
      "\t\t omp_num_threads \t <class 'str'>\n",
      "\t\t git_branch \t <class 'str'>\n",
      "\t\t release \t <class 'list'>\n",
      "\t\t nu_ei \t <class 'str'>\n",
      "\t\t nustar_i \t <class 'str'>\n",
      "\t\t nustar_e \t <class 'str'>\n",
      "\t units :\n",
      "\t\t bref \t <class 'str'>\n",
      "\t\t tref \t <class 'str'>\n",
      "\t\t nref \t <class 'str'>\n",
      "\t\t lref \t <class 'str'>\n",
      "\t\t mref \t <class 'str'>\n",
      "\t bsgrid :\n",
      "\t\t is_bsg \t <class 'str'>\n"
     ]
    }
   ],
   "source": [
    "f_print_dict_struct(par2,0)"
   ]
  },
  {
   "cell_type": "code",
   "execution_count": null,
   "id": "55cc592d-c6a5-4d04-919c-052b316a14d5",
   "metadata": {},
   "outputs": [],
   "source": []
  }
 ],
 "metadata": {
  "kernelspec": {
   "display_name": "mlpy38",
   "language": "python",
   "name": "mlpy38"
  },
  "language_info": {
   "codemirror_mode": {
    "name": "ipython",
    "version": 3
   },
   "file_extension": ".py",
   "mimetype": "text/x-python",
   "name": "python",
   "nbconvert_exporter": "python",
   "pygments_lexer": "ipython3",
   "version": "3.8.19"
  }
 },
 "nbformat": 4,
 "nbformat_minor": 5
}
