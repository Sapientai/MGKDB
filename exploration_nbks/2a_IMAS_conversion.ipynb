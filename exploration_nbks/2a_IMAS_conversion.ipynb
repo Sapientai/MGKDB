{
 "cells": [
  {
   "cell_type": "markdown",
   "id": "63c9b7e9-7180-45ff-80bf-779e6bbb2d4a",
   "metadata": {},
   "source": [
    "## Convert old IMAS at NERSC to new IMAS \n",
    "June 21, 2024 \n",
    "\n",
    "Venkitesh Ayyar"
   ]
  },
  {
   "cell_type": "code",
   "execution_count": 1,
   "id": "d1bc1146-ec95-435b-b4b9-11bdcdc4e1b5",
   "metadata": {
    "tags": []
   },
   "outputs": [],
   "source": [
    "import numpy as np\n",
    "import datetime\n",
    "import os\n",
    "\n",
    "import pymongo\n",
    "import pprint\n",
    "from bson.objectid import ObjectId\n",
    "\n",
    "import yaml\n",
    "import json\n",
    "import xmltodict"
   ]
  },
  {
   "cell_type": "code",
   "execution_count": 2,
   "id": "066d541e-02e7-4df3-a5fa-fc9be358fd1d",
   "metadata": {
    "tags": []
   },
   "outputs": [],
   "source": [
    "# ## Convert json to yaml for easy viewing\n",
    "# with open('gyrokinetics_new.json', 'r') as j:\n",
    "#     GK_dict = json.loads(j.read())\n",
    "    \n",
    "# with open('gyrokinetics_new.yaml','w') as f:\n",
    "#     yaml.dump(GK_dict,f,default_flow_style=False)"
   ]
  },
  {
   "cell_type": "markdown",
   "id": "5ffd6bcf-9880-4c4c-b279-fcdc3907a6df",
   "metadata": {
    "tags": []
   },
   "source": [
    "## Load both yaml files"
   ]
  },
  {
   "cell_type": "code",
   "execution_count": 3,
   "id": "38bce154-5428-49e2-abd7-1b5b9ce76922",
   "metadata": {
    "tags": []
   },
   "outputs": [],
   "source": [
    "fname='gyro_imas_old.yaml'\n",
    "with open(fname,'r') as f:\n",
    "    gk_dict = yaml.safe_load(f)\n",
    "    \n",
    "fname='gyro_imas_new.yaml'\n",
    "with open(fname,'r') as f:\n",
    "    GK_dict = yaml.safe_load(f)"
   ]
  },
  {
   "cell_type": "markdown",
   "id": "00ecaea9-fc14-4550-b4d4-0a26886e4cc7",
   "metadata": {
    "tags": []
   },
   "source": [
    "## Print dictionary hierarchy"
   ]
  },
  {
   "cell_type": "code",
   "execution_count": 4,
   "id": "6ef1ad64-2209-4198-b055-6f75cff5792f",
   "metadata": {
    "tags": []
   },
   "outputs": [],
   "source": [
    "def f_print_dict_struct(dict1,tab_count=0):\n",
    "    '''\n",
    "    Module to print dictionary hierarchy\n",
    "    '''\n",
    "    \n",
    "    if isinstance(dict1,dict):\n",
    "        for i,j in dict1.items():\n",
    "            if not isinstance(j,dict):\n",
    "                print('\\t'*tab_count, i,'\\t',type(j))\n",
    "                if (isinstance(j,list) and len(j)>0):\n",
    "                    if isinstance(j[0],dict):\n",
    "                        print('\\t\\t'*tab_count,i,'[0]:')                    \n",
    "                        f_print_dict_struct(j[0],tab_count+2)\n",
    "            else: \n",
    "                # print('\\t'*tab_count,\"------------\")\n",
    "                print('\\t'*tab_count,i,':')\n",
    "                f_print_dict_struct(j, tab_count+1)\n",
    "\n",
    "                \n",
    "# f_print_dict_struct(gk_dict,0)\n",
    "\n",
    "# f_print_dict_struct(GK_dict,0)\n",
    "    "
   ]
  },
  {
   "cell_type": "code",
   "execution_count": 5,
   "id": "209da729-c331-42b9-aca6-70160d37cd7a",
   "metadata": {},
   "outputs": [],
   "source": [
    "def f_get_dict_all_keys(dict1):\n",
    "    '''\n",
    "    Module to get lowest keys in dict hierarchy\n",
    "    '''\n",
    "    keys_lst =[] \n",
    "    \n",
    "    if isinstance(dict1,dict):\n",
    "        for i,j in dict1.items():\n",
    "            if not isinstance(j,dict):\n",
    "                keys_lst.append(i)\n",
    "                if (isinstance(j,list) and len(j)>0):\n",
    "                    if isinstance(j[0],dict):\n",
    "                        keys_lst.extend( f_get_dict_all_keys(j[0]) )\n",
    "            else: \n",
    "                keys_lst.extend( f_get_dict_all_keys(j) ) \n",
    "\n",
    "    return keys_lst\n",
    "\n",
    "# keys_par2 = f_get_dict_all_keys(par2)"
   ]
  },
  {
   "cell_type": "code",
   "execution_count": 6,
   "id": "ced13000-67ce-4e79-b36d-b536ea2c1312",
   "metadata": {},
   "outputs": [
    {
     "data": {
      "text/plain": [
       "(dict_keys(['code', 'collisions', 'flux_surface', 'fluxes_integrated_norm', 'ids_properties', 'model', 'species', 'species_all', 'wavevector']),\n",
       " dict_keys(['code', 'collisions', 'flux_surface', 'ids_properties', 'linear', 'max_repr_length', 'model', 'non_linear', 'normalizing_quantities', 'species', 'species_all', 'time', 'version']))"
      ]
     },
     "execution_count": 6,
     "metadata": {},
     "output_type": "execute_result"
    }
   ],
   "source": [
    "gk_dict.keys(),GK_dict.keys()"
   ]
  },
  {
   "cell_type": "code",
   "execution_count": null,
   "id": "ef0a7445-29cb-48c1-8ef4-4cb7986a5c0d",
   "metadata": {},
   "outputs": [],
   "source": []
  },
  {
   "cell_type": "code",
   "execution_count": 7,
   "id": "869acc98-0832-4cc4-ba69-eee1960d2c4f",
   "metadata": {},
   "outputs": [
    {
     "name": "stdout",
     "output_type": "stream",
     "text": [
      "include_a_field_parallel 1\n",
      "include_b_field_parallel 0\n",
      "include_centrifugal_effects None\n",
      "include_coriolis_drift None\n",
      "include_full_curvature_drift None\n"
     ]
    }
   ],
   "source": [
    "for key2 in GK_dict['model'].keys():\n",
    "    if key2.startswith('include'):\n",
    "        print(key2,GK_dict['model'][key2])"
   ]
  },
  {
   "cell_type": "code",
   "execution_count": 8,
   "id": "14d45944-cfa0-4aa1-992a-a9462031b14c",
   "metadata": {},
   "outputs": [
    {
     "name": "stdout",
     "output_type": "stream",
     "text": [
      "include_a_field_parallel True\n",
      "include_b_field_parallel False\n",
      "include_centrifugal_effects False\n",
      "include_full_curvature_drift False\n"
     ]
    }
   ],
   "source": [
    "for key2 in gk_dict['model'].keys():\n",
    "    if key2.startswith('include'):\n",
    "        print(key2,gk_dict['model'][key2])\n"
   ]
  },
  {
   "cell_type": "code",
   "execution_count": 9,
   "id": "38bfeb66-adde-4304-beab-7f9c79afd31c",
   "metadata": {},
   "outputs": [
    {
     "name": "stdout",
     "output_type": "stream",
     "text": [
      "energy_conservation True\n",
      "energy_conservation None\n",
      "finite_larmor_radius False\n",
      "finite_larmor_radius None\n",
      "momentum_conservation True\n",
      "momentum_conservation None\n",
      "pitch_only False\n",
      "pitch_only None\n"
     ]
    }
   ],
   "source": [
    "collision_suffix = ['energy_conservation', 'finite_larmor_radius', 'momentum_conservation', 'pitch_only']\n",
    "for suffix in collision_suffix:\n",
    "    print(suffix,gk_dict['model']['collision_'+suffix])\n",
    "    print(suffix,GK_dict['model']['collisions_'+suffix])\n"
   ]
  },
  {
   "cell_type": "code",
   "execution_count": 10,
   "id": "11fe39d6-6f9e-47e8-ba99-eac89965561e",
   "metadata": {
    "tags": []
   },
   "outputs": [],
   "source": [
    "# # ## modification for species \n",
    "# key1='species'\n",
    "\n",
    "# common_keys   = [i for i in gk_dict[key1][0].keys() if i in GK_dict[key1][0].keys()]\n",
    "# old_only_keys = [i for i in gk_dict[key1][0].keys() if i not in GK_dict[key1][0].keys()]\n",
    "# new_only_keys = [i for i in GK_dict[key1][0].keys() if i not in gk_dict[key1][0].keys()]\n",
    "\n",
    "# print(common_keys,'\\n\\n',old_only_keys,'\\n\\n',new_only_keys)\n"
   ]
  },
  {
   "cell_type": "code",
   "execution_count": 11,
   "id": "b07c4a74-0735-4802-b146-0a63fd914ebc",
   "metadata": {},
   "outputs": [
    {
     "name": "stdout",
     "output_type": "stream",
     "text": [
      "include_a_field_parallel True 1\n",
      "include_b_field_parallel False 0\n",
      "include_centrifugal_effects False None\n",
      "include_full_curvature_drift False None\n"
     ]
    }
   ],
   "source": [
    "for key2 in ['include_a_field_parallel', 'include_b_field_parallel', 'include_centrifugal_effects', 'include_full_curvature_drift'] :\n",
    "    print(key2, gk_dict['model'][key2],GK_dict['model'][key2])"
   ]
  },
  {
   "cell_type": "code",
   "execution_count": 12,
   "id": "10a65a22-e2c6-49aa-b5f9-62eefea4af69",
   "metadata": {
    "tags": []
   },
   "outputs": [
    {
     "name": "stdout",
     "output_type": "stream",
     "text": [
      "['include_a_field_parallel', 'include_b_field_parallel', 'include_centrifugal_effects', 'include_full_curvature_drift'] \n",
      "\n",
      " ['collision_ei_only', 'collision_energy_conservation', 'collision_finite_larmor_radius', 'collision_momentum_conservation', 'collision_pitch_only', 'initial_value_run', 'non_linear_run', 'time_interval_norm'] \n",
      "\n",
      " ['adiabatic_electrons', 'collisions_energy_conservation', 'collisions_finite_larmor_radius', 'collisions_momentum_conservation', 'collisions_pitch_only', 'include_coriolis_drift', 'max_repr_length', 'version']\n"
     ]
    }
   ],
   "source": [
    "key1='model'\n",
    "\n",
    "common_keys   = [i for i in gk_dict[key1].keys() if i in GK_dict[key1].keys()]\n",
    "old_only_keys = [i for i in gk_dict[key1].keys() if i not in GK_dict[key1].keys()]\n",
    "new_only_keys = [i for i in GK_dict[key1].keys() if i not in gk_dict[key1].keys()]\n",
    "\n",
    "print(common_keys,'\\n\\n',old_only_keys,'\\n\\n',new_only_keys)\n",
    "\n",
    "# for i in common_keys: \n",
    "#     print(i,'\\t',gk_dict[key1][i],'\\t',GK_dict[key1][i],'\\n')\n",
    "\n",
    "# for i in old_only_keys:\n",
    "#     print(i, gk_dict[key1][i])\n",
    "    \n",
    "# for i in new_only_keys:\n",
    "#     print(i, GK_dict[key1][i])"
   ]
  },
  {
   "cell_type": "code",
   "execution_count": 13,
   "id": "cef78c1c-4cc2-4d33-9a10-4451a4e66e30",
   "metadata": {},
   "outputs": [
    {
     "name": "stdout",
     "output_type": "stream",
     "text": [
      "collision_ei_only False\n",
      "initial_value_run True\n",
      "non_linear_run False\n",
      "time_interval_norm []\n"
     ]
    }
   ],
   "source": [
    "# for key2 in  ['adiabatic_electrons', 'include_coriolis_drift', 'max_repr_length', 'version']:\n",
    "#     print(key2, GK_dict['model'][key2])\n",
    "\n",
    "for key2 in  ['collision_ei_only','initial_value_run', 'non_linear_run', 'time_interval_norm']: \n",
    "    print(key2, gk_dict['model'][key2])"
   ]
  },
  {
   "cell_type": "code",
   "execution_count": null,
   "id": "782a5195-7cec-49fd-abc0-2c4cff99767c",
   "metadata": {},
   "outputs": [],
   "source": []
  },
  {
   "cell_type": "markdown",
   "id": "22df2104-a694-4589-a6df-51f017568771",
   "metadata": {},
   "source": [
    "### Wavevector"
   ]
  },
  {
   "cell_type": "code",
   "execution_count": null,
   "id": "19c332a9-7683-42bc-8661-62a3a14c5913",
   "metadata": {},
   "outputs": [],
   "source": []
  },
  {
   "cell_type": "code",
   "execution_count": 15,
   "id": "2b393d7e-de4a-421a-be02-0731baf75467",
   "metadata": {
    "scrolled": true
   },
   "outputs": [
    {
     "data": {
      "text/plain": [
       "(dict_keys(['binormal_component_norm', 'eigenmode', 'poloidal_turns', 'radial_component_norm']),\n",
       " dict_keys(['binormal_wavevector_norm', 'eigenmode', 'max_repr_length', 'radial_wavevector_norm', 'version']))"
      ]
     },
     "execution_count": 15,
     "metadata": {},
     "output_type": "execute_result"
    }
   ],
   "source": [
    "gk_dict['wavevector'][0].keys(), GK_dict['linear']['wavevector'][0].keys()"
   ]
  },
  {
   "cell_type": "code",
   "execution_count": 16,
   "id": "d333371b-d8ea-4bfa-a6a4-49dae87d9817",
   "metadata": {
    "scrolled": true
   },
   "outputs": [
    {
     "data": {
      "text/plain": [
       "992"
      ]
     },
     "execution_count": 16,
     "metadata": {},
     "output_type": "execute_result"
    }
   ],
   "source": [
    "key1='a_field_parallel_perturbed_norm_imaginary'\n",
    "len(gk_dict['wavevector'][0]['eigenmode'][0][key1])"
   ]
  },
  {
   "cell_type": "code",
   "execution_count": 17,
   "id": "cb860e33-ea9e-47be-ad57-95f0c6e49c5d",
   "metadata": {},
   "outputs": [
    {
     "data": {
      "text/plain": [
       "[384, 550]"
      ]
     },
     "execution_count": 17,
     "metadata": {},
     "output_type": "execute_result"
    }
   ],
   "source": [
    "key1='a_field_parallel_perturbed_norm'\n",
    "GK_dict['linear']['wavevector'][0]['eigenmode'][0]['fields'][key1].keys()\n",
    "len(GK_dict['linear']['wavevector'][0]['eigenmode'][0]['fields'][key1]['__ndarray_tolist_real__'])\n",
    "len(GK_dict['linear']['wavevector'][0]['eigenmode'][0]['fields'][key1]['__ndarray_tolist_real__'][0])\n",
    "GK_dict['linear']['wavevector'][0]['eigenmode'][0]['fields'][key1]['dtype']\n",
    "GK_dict['linear']['wavevector'][0]['eigenmode'][0]['fields'][key1]['shape']\n",
    "# list of list : (384, 550)"
   ]
  },
  {
   "cell_type": "code",
   "execution_count": 18,
   "id": "41d5377d-7839-435f-8be4-507637076dc7",
   "metadata": {},
   "outputs": [
    {
     "name": "stdout",
     "output_type": "stream",
     "text": [
      "0.24583409045936327 -1.6596400401476432\n",
      "0.0474108603028772 -0.28141296468495464\n",
      "0.001755957788995452 1.44941776692768\n"
     ]
    }
   ],
   "source": [
    "keys = ['frequency_norm','growth_rate_norm','growth_rate_tolerance']\n",
    "for key in keys: \n",
    "    print(gk_dict['wavevector'][0]['eigenmode'][0][key],GK_dict['linear']['wavevector'][0]['eigenmode'][0][key])"
   ]
  },
  {
   "cell_type": "code",
   "execution_count": 19,
   "id": "a2654272-6c7e-4531-b620-5dae821fdf0e",
   "metadata": {},
   "outputs": [
    {
     "data": {
      "text/plain": [
       "992"
      ]
     },
     "execution_count": 19,
     "metadata": {},
     "output_type": "execute_result"
    }
   ],
   "source": [
    "len(GK_dict['linear']['wavevector'][0]['eigenmode'][0]['angle_pol'])\n",
    "len(gk_dict['wavevector'][0]['eigenmode'][0]['poloidal_angle'])\n",
    "\n"
   ]
  },
  {
   "cell_type": "code",
   "execution_count": 20,
   "id": "573ed67f-7462-4d4e-a2c8-4c5645183453",
   "metadata": {
    "scrolled": true
   },
   "outputs": [
    {
     "data": {
      "text/plain": [
       "dict_keys(['density_imaginary', 'density_real', 'temperature_parallel_imaginary', 'temperature_parallel_real', 'temperature_perpendicular_imaginary', 'temperature_perpendicular_real', 'velocity_parallel_imaginary', 'velocity_parallel_real'])"
      ]
     },
     "execution_count": 20,
     "metadata": {},
     "output_type": "execute_result"
    }
   ],
   "source": [
    "gk_dict['wavevector'][0]['eigenmode'][0]['moments_norm_rotating_frame'][0].keys()"
   ]
  },
  {
   "cell_type": "code",
   "execution_count": 43,
   "id": "d8abbe7c-8710-42c3-957d-eb4e079b75e2",
   "metadata": {},
   "outputs": [
    {
     "name": "stdout",
     "output_type": "stream",
     "text": [
      "angle_pol\n",
      "code\n",
      "fields\n",
      "frequency_norm\n",
      "growth_rate_norm\n",
      "growth_rate_tolerance\n",
      "initial_value_run\n",
      "linear_weights\n",
      "linear_weights_rotating_frame\n",
      "max_repr_length\n",
      "moments_norm_gyrocenter\n",
      "moments_norm_gyrocenter_bessel_0\n",
      "moments_norm_gyrocenter_bessel_1\n",
      "moments_norm_particle\n",
      "poloidal_turns\n",
      "time_norm\n",
      "version\n"
     ]
    }
   ],
   "source": [
    "for i in GK_dict['linear']['wavevector'][0]['eigenmode'][0].keys():\n",
    "    print(i)"
   ]
  },
  {
   "cell_type": "code",
   "execution_count": 32,
   "id": "cb79f039-b632-4d99-9122-39dc31948c53",
   "metadata": {
    "scrolled": true
   },
   "outputs": [],
   "source": [
    "# f_print_dict_struct(GK_dict['linear']['wavevector'][0]['eigenmode'][0],0)"
   ]
  },
  {
   "cell_type": "code",
   "execution_count": 79,
   "id": "1eafd6d7-5035-47d4-a9f6-b795993f083b",
   "metadata": {},
   "outputs": [
    {
     "data": {
      "text/plain": [
       "dict_keys(['angle_pol', 'code', 'fields', 'frequency_norm', 'growth_rate_norm', 'growth_rate_tolerance', 'initial_value_run', 'linear_weights', 'linear_weights_rotating_frame', 'max_repr_length', 'moments_norm_gyrocenter', 'moments_norm_gyrocenter_bessel_0', 'moments_norm_gyrocenter_bessel_1', 'moments_norm_particle', 'poloidal_turns', 'time_norm', 'version'])"
      ]
     },
     "execution_count": 79,
     "metadata": {},
     "output_type": "execute_result"
    }
   ],
   "source": [
    "GK_dict['linear']['wavevector'][0]['eigenmode'][0].keys()"
   ]
  },
  {
   "cell_type": "code",
   "execution_count": 78,
   "id": "9b9abf1e-1268-4fce-bfcf-89a94d466833",
   "metadata": {},
   "outputs": [
    {
     "data": {
      "text/plain": [
       "{'idspy_internal_version': '2.0',\n",
       " 'idspy_version': '034000.2.0',\n",
       " 'imas_dd_git_commit': '845f1b30816f86a3cd4d53714dc56cdd307fdca1',\n",
       " 'imas_dd_version': '03.40.00'}"
      ]
     },
     "execution_count": 78,
     "metadata": {},
     "output_type": "execute_result"
    }
   ],
   "source": [
    "GK_dict['linear']['version']"
   ]
  },
  {
   "cell_type": "code",
   "execution_count": 80,
   "id": "7955aeb7-166f-40f8-9ea6-738231780f9a",
   "metadata": {},
   "outputs": [
    {
     "data": {
      "text/plain": [
       "dict_keys(['angle_pol', 'code', 'fields', 'frequency_norm', 'growth_rate_norm', 'growth_rate_tolerance', 'initial_value_run', 'linear_weights', 'linear_weights_rotating_frame', 'max_repr_length', 'moments_norm_gyrocenter', 'moments_norm_gyrocenter_bessel_0', 'moments_norm_gyrocenter_bessel_1', 'moments_norm_particle', 'poloidal_turns', 'time_norm', 'version'])"
      ]
     },
     "execution_count": 80,
     "metadata": {},
     "output_type": "execute_result"
    }
   ],
   "source": [
    "GK_dict['linear']['wavevector'][0]['eigenmode'][0][']"
   ]
  },
  {
   "cell_type": "code",
   "execution_count": 64,
   "id": "8969c901-d919-42fa-93d6-2a36d1bbe5a1",
   "metadata": {},
   "outputs": [
    {
     "data": {
      "text/plain": [
       "dict_keys(['a_field_parallel_perturbed_norm', 'a_field_parallel_perturbed_parity', 'a_field_parallel_perturbed_weight', 'b_field_parallel_perturbed_norm', 'b_field_parallel_perturbed_parity', 'b_field_parallel_perturbed_weight', 'max_repr_length', 'phi_potential_perturbed_norm', 'phi_potential_perturbed_parity', 'phi_potential_perturbed_weight', 'version'])"
      ]
     },
     "execution_count": 64,
     "metadata": {},
     "output_type": "execute_result"
    }
   ],
   "source": [
    "key='linear_weights'\n",
    "key='fields'\n",
    "GK_dict['linear']['wavevector'][0]['eigenmode'][0][key].keys()"
   ]
  },
  {
   "cell_type": "code",
   "execution_count": 31,
   "id": "919289a9-3b6e-4948-a47a-2780b4903686",
   "metadata": {},
   "outputs": [],
   "source": [
    "\n",
    "def f_wavevector(old_gk_dict,new_gk_dict):\n",
    "    ''' conversion for key: wavevector '''\n",
    "    \n",
    "    main_key = 'wavevector'\n",
    "    old_gk,new_gk = old_gk_dict[main_key][0], new_gk_dict['linear'][main_key][0]\n",
    "    \n",
    "    dict1={}\n",
    "    ## Old keys not present \n",
    "    # poloidal_turns is inside eigenmodes for new \n",
    "    \n",
    "    ## New keys not present in old \n",
    "    keys = ['max_repr_length', 'version']\n",
    "    \n",
    "    for key in keys:\n",
    "        dict1[key] = new_gk[key]\n",
    "    \n",
    "    ## Common keys \n",
    "    key_map = {'binormal_component_norm':'binormal_wavevector_norm', \n",
    "               'radial_component_norm':'radial_wavevector_norm' }\n",
    "    for key,val in key_map.keys():\n",
    "        dict1[val] = old_gk[key]\n",
    "\n",
    "    ## Map subdict eigenmode \n",
    "    def f_get_eigenmode_dict(old_gk,new_gk):\n",
    "\n",
    "        dict2={}\n",
    "\n",
    "        ## Common keys\n",
    "        keys = ['frequency_norm','growth_rate_norm','growth_rate_tolerance']\n",
    "        for key in keys: \n",
    "            dict2[key]= old_gk['eigenmode'][0][key]\n",
    "\n",
    "        ## Poloidal angle has different key name\n",
    "        dict2['angle_pol'] = old_gk['eigenmode'][0]['poloidal_angle']\n",
    "\n",
    "        ## poloidal_turns is outside eigenmodes in old \n",
    "        dict2['poloidal_turns'] = old_gk['poloidal_turns']\n",
    "        \n",
    "        ##### fluxes_norm\n",
    "        dict2['linear_weights']={}\n",
    "\n",
    "        ## Common keys \n",
    "        keys = ['energy_a_field_parallel', 'energy_b_field_parallel', 'energy_phi_potential', 'momentum_tor_parallel_a_field_parallel', 'momentum_tor_parallel_b_field_parallel', \n",
    "                'momentum_tor_parallel_phi_potential', 'momentum_tor_perpendicular_a_field_parallel', 'momentum_tor_perpendicular_b_field_parallel', 'momentum_tor_perpendicular_phi_potential', \n",
    "                'particles_a_field_parallel', 'particles_b_field_parallel', 'particles_phi_potential']\n",
    "\n",
    "        num_list = 3 ## size of list : corresponds to 3 types of particles\n",
    "        for key in keys: \n",
    "            dict2['linear_weights'][key]= [old_gk['fluxes_norm'][i][key] for i in range(num_list)]\n",
    "        \n",
    "        ## Keys not in old \n",
    "        keys = ['max_repr_length', 'version']\n",
    "        for key in keys:\n",
    "            dict2[key] = new_gk[key]\n",
    "\n",
    "        ##### moments_norm_rotating_frame\n",
    "        ## Not present in new IMAS \n",
    "        keys = ['density_imaginary', 'density_real', 'temperature_parallel_imaginary', \\\n",
    "                'temperature_parallel_real', 'temperature_perpendicular_imaginary', \\\n",
    "                'temperature_perpendicular_real', 'velocity_parallel_imaginary', 'velocity_parallel_real']\n",
    "\n",
    "        ##### phi_potential_perturbed_norm \n",
    "\n",
    "        ##### a_field_parallel_perturbed_norm\n",
    "\n",
    "\n",
    "        ### fields\n",
    "        keys = ['a_field_parallel_perturbed_norm', 'a_field_parallel_perturbed_parity', 'a_field_parallel_perturbed_weight', 'b_field_parallel_perturbed_norm', 'b_field_parallel_perturbed_parity', 'b_field_parallel_perturbed_weight', 'max_repr_length', 'phi_potential_perturbed_norm', 'phi_potential_perturbed_parity', 'phi_potential_perturbed_weight', 'version']\n",
    "        fields=dict.fromkeys(keys,None)\n",
    "        dict2['fields']=fields\n",
    "        \n",
    "        ### moments_norm_particle \n",
    "        keys = ['density', 'heat_flux_parallel', 'j_parallel', 'max_repr_length', 'pressure_parallel', 'pressure_perpendicular', 'v_parallel_energy_perpendicular', 'v_perpendicular_square_energy', 'version']\n",
    "        mom_norm = dict.fromkeys(keys,None)\n",
    "        dict2['moments_norm_particle']=mom_norm\n",
    "        \n",
    "        ### Not present in old \n",
    "        keys = ['initial_value_run','linear_weights_rotating_frame','moments_norm_gyrocenter','moments_norm_gyrocenter_bessel_0','moments_norm_gyrocenter_bessel_1',]\n",
    "        for key in keys: \n",
    "            dict2[key]= None\n",
    "        \n",
    "        for key in ['version','max_repr_length']\n",
    "            dict2[key]= None\n",
    "        \n",
    "        ## time_norm present in model ??\n",
    "        \n",
    "        return [dict2] \n",
    "\n",
    "    ## eigenmode:\n",
    "    dict1['eigenmode']= f_get_eigenmode_dict(old_gk,new_gk)\n",
    "\n",
    "    dict1['eigenmode'][0]['time_norm'] = old_gk_dict['model']['time_interval_norm'] \n",
    "\n",
    "    ## Also need to add     keys = ['max_repr_length', 'version'] to main dict, outside of wavevector\n",
    "        \n",
    "    return dict1"
   ]
  },
  {
   "cell_type": "code",
   "execution_count": null,
   "id": "1e1ed0b2-dc1b-409b-a67a-cf812e5de733",
   "metadata": {},
   "outputs": [],
   "source": []
  },
  {
   "cell_type": "markdown",
   "id": "3db3811c-6133-41c3-a9de-593663cba731",
   "metadata": {
    "jp-MarkdownHeadingCollapsed": true
   },
   "source": [
    "### Code"
   ]
  },
  {
   "cell_type": "code",
   "execution_count": 22,
   "id": "80919d84-1b21-4378-805b-0edcd8f3cf0a",
   "metadata": {},
   "outputs": [
    {
     "data": {
      "text/plain": [
       "(dict_keys(['name', 'parameters', 'version']),\n",
       " dict_keys(['commit', 'description', 'library', 'max_repr_length', 'name', 'output_flag', 'parameters', 'repository', 'version']))"
      ]
     },
     "execution_count": 22,
     "metadata": {},
     "output_type": "execute_result"
    }
   ],
   "source": [
    "gk_dict['code'].keys(), GK_dict['code'].keys()"
   ]
  },
  {
   "cell_type": "code",
   "execution_count": 23,
   "id": "3c8dbc57-2766-4e8f-b835-c0c3fd2e5bac",
   "metadata": {
    "scrolled": true
   },
   "outputs": [
    {
     "data": {
      "text/plain": [
       "'GENE'"
      ]
     },
     "execution_count": 23,
     "metadata": {},
     "output_type": "execute_result"
    }
   ],
   "source": [
    "gk_dict['code']['name']"
   ]
  },
  {
   "cell_type": "markdown",
   "id": "8302140d-def0-40e3-9657-da76653fff5d",
   "metadata": {},
   "source": [
    "####  Parameters "
   ]
  },
  {
   "cell_type": "code",
   "execution_count": 24,
   "id": "2fa06aa3-a6f0-4d9b-8d47-3ef426b6c42b",
   "metadata": {},
   "outputs": [
    {
     "data": {
      "text/plain": [
       "'<?xml version=\"1.0\" encoding=\"utf-8\"?>\\n<root><parallelization><n_procs_s>1</n_procs_s><n_procs_v>2</n_procs_v><n_procs_w>4</n_procs_w><n_procs_x>1</n_procs_x><n_procs_y>1</n_procs_y><n_procs_z>32</n_procs_z><n_procs_sim>256</n_procs_sim><n_parallel_sims>3</n_parallel_sims></parallelization><box><n_spec>3</n_spec><nx0>7</nx0><nky0>1</nky0><nz0>64</nz0><nv0>36</nv0><nw0>8</nw0><kymin>1.5</kymin><lv>3.0</lv><lw>9.0</lw><adapt_lx>true</adapt_lx><x0>0.825</x0><n0_global>32</n0_global><ky0_ind>1</ky0_ind></box><in_out><diagdir>/pscratch/sd/j/joeschm/NSXTU_discharges/132588/r_0.825_q5_MTM_mode/convergence_check/nz0_edgeopt_hypz_scans_V3/nz0-64_edge_opt-12_hyp_z--8/scanfiles0000/</diagdir><read_checkpoint>false</read_checkpoint><write_checkpoint>false</write_checkpoint><istep_field>100</istep_field><istep_mom>600</istep_mom><istep_nrg>50</istep_nrg><istep_omega>20</istep_omega><istep_vsp>5000</istep_vsp><istep_schpt>5000</istep_schpt><istep_energy>100</istep_energy><write_std>true</write_std><iterdb_file>/global/homes/j/joeschm/data/ST_research/NSTXU_discharges/132588/NSTXU132588.iterdb</iterdb_file></in_out><general><nonlinear>false</nonlinear><comp_type>IV</comp_type><perf_vec>1</perf_vec><perf_vec>2</perf_vec><perf_vec>2</perf_vec><perf_vec>3</perf_vec><perf_vec>1</perf_vec><perf_vec>2</perf_vec><perf_vec>2</perf_vec><perf_vec>2</perf_vec><perf_vec>2</perf_vec><nblocks>6</nblocks><arakawa_zv>false</arakawa_zv><timescheme>RK4</timescheme><dt_max>0.000536</dt_max><dt_vlasov>0.000536</dt_vlasov><ev_coll>1228.0</ev_coll><timelim>8600000</timelim><ntimesteps>20000000</ntimesteps><beta>0.047801501</beta><debye2>9.8276809e-06</debye2><collision_op>landau</collision_op><coll>0.0066031494</coll><coll_cons_model>xu_rosenbluth</coll_cons_model><init_cond>alm</init_cond><hyp_z_with_dz_prefactor>false</hyp_z_with_dz_prefactor><hyp_z>-8.0</hyp_z><hyp_v_with_dv_prefactor>false</hyp_v_with_dv_prefactor><hyp_v>0.2</hyp_v><perf_tsteps>-1</perf_tsteps></general><geometry><magn_geometry>tracer_efit</magn_geometry><q0>4.9951917</q0><shat>2.8808061</shat><geomdir>/global/homes/j/joeschm/data/ST_research/NSTXU_discharges/132588/</geomdir><geomfile>g132588.00650</geomfile><edge_opt>12.0</edge_opt><minor_r>1.0</minor_r><major_r>0.94126021</major_r><rhostar>0.0076466201</rhostar><dpdx_term>full_drift</dpdx_term><dpdx_pm>1.1908992</dpdx_pm><norm_flux_projection>false</norm_flux_projection></geometry><species><name>i</name><omn>5.9963121</omn><omt>2.8994479</omt><mass>1.0</mass><temp>1.4903085</temp><dens>0.45278531</dens><charge>1.0</charge></species><species><name>e</name><omn>5.112098</omn><omt>11.44119</omt><mass>0.0002724</mass><temp>1.0</temp><dens>1.0</dens><charge>-1.0</charge></species><species><name>c</name><omn>4.3804671</omn><omt>2.8994479</omt><mass>6.0</mass><temp>1.4903085</temp><dens>0.091202449</dens><charge>6.0</charge></species><info><step_time>0.0028</step_time><step_time>number</step_time><step_time>of</step_time><step_time>computed</step_time><step_time>time</step_time><steps>54899</steps><steps>time</steps><steps>for</steps><steps>initial</steps><steps>value</steps><solver>155.977</solver><calc_dt>true</calc_dt><nltdt_off>false</nltdt_off><ev_coll_est>1567.1689</ev_coll_est><init_time>3.0217</init_time><n_fields>2</n_fields><n_moms>6</n_moms><nrgcols>10</nrgcols><lx>0.231417</lx><ly>4.18879</ly><precision>DOUBLE</precision><endianness>LITTLE</endianness><omp_num_threads>1</omp_num_threads><git_branch>4ee4f597491b9fc7e6850309318f931f2b98ca17</git_branch><release>2.0</release><release>-</release><release>patch</release><release>4</release><nu_ei>5.978923</nu_ei><nustar_i>0.135416</nustar_i><nustar_e>0.42534</nustar_e></info><units><bref>0.3598016468783417</bref><tref>0.4404193664193834</tref><nref>3.4865538031686114</nref><lref>1.1003037380870726</lref><mref>2.0</mref></units><bsgrid><is_bsg>false</is_bsg></bsgrid></root>'"
      ]
     },
     "execution_count": 24,
     "metadata": {},
     "output_type": "execute_result"
    }
   ],
   "source": [
    "GK_dict['code']['parameters']"
   ]
  },
  {
   "cell_type": "code",
   "execution_count": 25,
   "id": "f2ca3bbb-5c0e-4410-a2cc-8526b8d36456",
   "metadata": {},
   "outputs": [
    {
     "data": {
      "text/plain": [
       "dict_keys(['Bref', 'ENDIANNESS', 'ExBrate', 'GIT_BRANCH', 'GIT_MASTER', 'Lref', 'OMP_NUM_THREADS', 'Omega0_tor', 'PRECISION', 'RELEASE', 'Tref', 'adapt_lx', 'beta', 'calc_dt', 'charge1', 'charge2', 'charge3', 'coll', 'coll_cons_model', 'coll_order', 'collision_op', 'comp_type', 'debye2', 'dens1', 'dens2', 'dens3', 'diag_Blev(0)', 'diag_trap_levels', 'diagdir', 'dpdx_pm', 'dpdx_term', 'dt_max', 'dt_vlasov', 'ev_coll', 'ev_coll_est', 'geomfile', 'hyp_z', 'hypz_compensation', 'init_cond', 'init_time', 'istep_energy', 'istep_field', 'istep_mom', 'istep_nrg', 'istep_omega', 'istep_schpt', 'istep_vsp', 'kx_center', 'ky0_ind', 'kymin', 'lv', 'lw', 'lx', 'ly', 'magn_geometry', 'major_R', 'mass1', 'mass2', 'mass3', 'minor_r', 'mref', 'n0_global', 'n_fields', 'n_moms', 'n_parallel_sims', 'n_pol', 'n_procs_s', 'n_procs_sim', 'n_procs_v', 'n_procs_w', 'n_procs_x', 'n_procs_y', 'n_procs_z', 'n_spec', 'name1', 'name2', 'name3', 'nblocks', 'nky0', 'nltdt_off', 'nonlinear', 'norm_flux_projection', 'nref', 'nrgcols', 'ntimesteps', 'nu_ei', 'number of computed time steps', 'nustar_e', 'nustar_i', 'nv0', 'nw0', 'nx0', 'nz0', 'omega_prec', 'omn1', 'omn2', 'omn3', 'omt1', 'omt2', 'omt3', 'passive1', 'passive2', 'passive3', 'perf_vec', 'q0', 'read_checkpoint', 'rhostar', 'shat', 'sign_Bt_CW', 'sign_Ip_CW', 'simtimelim', 'step_time', 'temp1', 'temp2', 'temp3', 'time for initial value solver', 'timelim', 'timescheme', 'with_bxphi0', 'with_centrifugal', 'with_comoving_other', 'with_coriolis', 'write_checkpoint', 'write_std', 'x0'])"
      ]
     },
     "execution_count": 25,
     "metadata": {},
     "output_type": "execute_result"
    }
   ],
   "source": [
    "par1 = gk_dict['code']['parameters']\n",
    "par1.keys()"
   ]
  },
  {
   "cell_type": "code",
   "execution_count": 26,
   "id": "639f15b2-43f1-4e5c-9277-a45e25b709cb",
   "metadata": {
    "scrolled": true
   },
   "outputs": [
    {
     "data": {
      "text/plain": [
       "dict_keys(['parallelization', 'box', 'in_out', 'general', 'geometry', 'species', 'info', 'units', 'bsgrid'])"
      ]
     },
     "execution_count": 26,
     "metadata": {},
     "output_type": "execute_result"
    }
   ],
   "source": [
    "# GK_dict['ids_properties']\n",
    "par2 = xmltodict.parse(GK_dict['code']['parameters'])\n",
    "par2['root'].keys()"
   ]
  },
  {
   "cell_type": "code",
   "execution_count": 27,
   "id": "81b76255-c780-4a98-9061-29e4a02e5a73",
   "metadata": {
    "collapsed": true,
    "jupyter": {
     "outputs_hidden": true
    },
    "scrolled": true
   },
   "outputs": [
    {
     "data": {
      "text/plain": [
       "['n_procs_s',\n",
       " 'n_procs_v',\n",
       " 'n_procs_w',\n",
       " 'n_procs_x',\n",
       " 'n_procs_y',\n",
       " 'n_procs_z',\n",
       " 'n_procs_sim',\n",
       " 'n_parallel_sims',\n",
       " 'n_spec',\n",
       " 'nx0',\n",
       " 'nky0',\n",
       " 'nz0',\n",
       " 'nv0',\n",
       " 'nw0',\n",
       " 'kymin',\n",
       " 'lv',\n",
       " 'lw',\n",
       " 'adapt_lx',\n",
       " 'x0',\n",
       " 'n0_global',\n",
       " 'ky0_ind',\n",
       " 'diagdir',\n",
       " 'read_checkpoint',\n",
       " 'write_checkpoint',\n",
       " 'istep_field',\n",
       " 'istep_mom',\n",
       " 'istep_nrg',\n",
       " 'istep_omega',\n",
       " 'istep_vsp',\n",
       " 'istep_schpt',\n",
       " 'istep_energy',\n",
       " 'write_std',\n",
       " 'iterdb_file',\n",
       " 'nonlinear',\n",
       " 'comp_type',\n",
       " 'perf_vec',\n",
       " 'nblocks',\n",
       " 'arakawa_zv',\n",
       " 'timescheme',\n",
       " 'dt_max',\n",
       " 'dt_vlasov',\n",
       " 'ev_coll',\n",
       " 'timelim',\n",
       " 'ntimesteps',\n",
       " 'beta',\n",
       " 'debye2',\n",
       " 'collision_op',\n",
       " 'coll',\n",
       " 'coll_cons_model',\n",
       " 'init_cond',\n",
       " 'hyp_z_with_dz_prefactor',\n",
       " 'hyp_z',\n",
       " 'hyp_v_with_dv_prefactor',\n",
       " 'hyp_v',\n",
       " 'perf_tsteps',\n",
       " 'magn_geometry',\n",
       " 'q0',\n",
       " 'shat',\n",
       " 'geomdir',\n",
       " 'geomfile',\n",
       " 'edge_opt',\n",
       " 'minor_r',\n",
       " 'major_r',\n",
       " 'rhostar',\n",
       " 'dpdx_term',\n",
       " 'dpdx_pm',\n",
       " 'norm_flux_projection',\n",
       " {'name': 'i',\n",
       "  'omn': '5.9963121',\n",
       "  'omt': '2.8994479',\n",
       "  'mass': '1.0',\n",
       "  'temp': '1.4903085',\n",
       "  'dens': '0.45278531',\n",
       "  'charge': '1.0'},\n",
       " {'name': 'e',\n",
       "  'omn': '5.112098',\n",
       "  'omt': '11.44119',\n",
       "  'mass': '0.0002724',\n",
       "  'temp': '1.0',\n",
       "  'dens': '1.0',\n",
       "  'charge': '-1.0'},\n",
       " {'name': 'c',\n",
       "  'omn': '4.3804671',\n",
       "  'omt': '2.8994479',\n",
       "  'mass': '6.0',\n",
       "  'temp': '1.4903085',\n",
       "  'dens': '0.091202449',\n",
       "  'charge': '6.0'},\n",
       " 'step_time',\n",
       " 'steps',\n",
       " 'solver',\n",
       " 'calc_dt',\n",
       " 'nltdt_off',\n",
       " 'ev_coll_est',\n",
       " 'init_time',\n",
       " 'n_fields',\n",
       " 'n_moms',\n",
       " 'nrgcols',\n",
       " 'lx',\n",
       " 'ly',\n",
       " 'precision',\n",
       " 'endianness',\n",
       " 'omp_num_threads',\n",
       " 'git_branch',\n",
       " 'release',\n",
       " 'nu_ei',\n",
       " 'nustar_i',\n",
       " 'nustar_e',\n",
       " 'bref',\n",
       " 'tref',\n",
       " 'nref',\n",
       " 'lref',\n",
       " 'mref',\n",
       " 'is_bsg']"
      ]
     },
     "execution_count": 27,
     "metadata": {},
     "output_type": "execute_result"
    }
   ],
   "source": [
    "[ky2 for ky1 in par2['root'].keys() for ky2 in par2['root'][ky1]]"
   ]
  },
  {
   "cell_type": "code",
   "execution_count": 68,
   "id": "55cc592d-c6a5-4d04-919c-052b316a14d5",
   "metadata": {},
   "outputs": [],
   "source": [
    "# len(par1.keys()),len(keys_par2)\n",
    "# par2"
   ]
  },
  {
   "cell_type": "code",
   "execution_count": 29,
   "id": "b80e8c4c-801f-4d59-a003-9525fb0daba0",
   "metadata": {},
   "outputs": [
    {
     "ename": "NameError",
     "evalue": "name 'keys_par2' is not defined",
     "output_type": "error",
     "traceback": [
      "\u001b[0;31m---------------------------------------------------------------------------\u001b[0m",
      "\u001b[0;31mNameError\u001b[0m                                 Traceback (most recent call last)",
      "Cell \u001b[0;32mIn[29], line 1\u001b[0m\n\u001b[0;32m----> 1\u001b[0m common \u001b[38;5;241m=\u001b[39m [i \u001b[38;5;28;01mfor\u001b[39;00m i \u001b[38;5;129;01min\u001b[39;00m par1\u001b[38;5;241m.\u001b[39mkeys() \u001b[38;5;28;01mif\u001b[39;00m i \u001b[38;5;129;01min\u001b[39;00m keys_par2]\n\u001b[1;32m      2\u001b[0m not_in_new \u001b[38;5;241m=\u001b[39m [i \u001b[38;5;28;01mfor\u001b[39;00m i \u001b[38;5;129;01min\u001b[39;00m par1\u001b[38;5;241m.\u001b[39mkeys() \u001b[38;5;28;01mif\u001b[39;00m i \u001b[38;5;129;01mnot\u001b[39;00m \u001b[38;5;129;01min\u001b[39;00m keys_par2]\n\u001b[1;32m      3\u001b[0m not_in_old \u001b[38;5;241m=\u001b[39m [i \u001b[38;5;28;01mfor\u001b[39;00m i \u001b[38;5;129;01min\u001b[39;00m keys_par2 \u001b[38;5;28;01mif\u001b[39;00m i \u001b[38;5;129;01mnot\u001b[39;00m \u001b[38;5;129;01min\u001b[39;00m par1\u001b[38;5;241m.\u001b[39mkeys()]\n",
      "Cell \u001b[0;32mIn[29], line 1\u001b[0m, in \u001b[0;36m<listcomp>\u001b[0;34m(.0)\u001b[0m\n\u001b[0;32m----> 1\u001b[0m common \u001b[38;5;241m=\u001b[39m [i \u001b[38;5;28;01mfor\u001b[39;00m i \u001b[38;5;129;01min\u001b[39;00m par1\u001b[38;5;241m.\u001b[39mkeys() \u001b[38;5;28;01mif\u001b[39;00m i \u001b[38;5;129;01min\u001b[39;00m \u001b[43mkeys_par2\u001b[49m]\n\u001b[1;32m      2\u001b[0m not_in_new \u001b[38;5;241m=\u001b[39m [i \u001b[38;5;28;01mfor\u001b[39;00m i \u001b[38;5;129;01min\u001b[39;00m par1\u001b[38;5;241m.\u001b[39mkeys() \u001b[38;5;28;01mif\u001b[39;00m i \u001b[38;5;129;01mnot\u001b[39;00m \u001b[38;5;129;01min\u001b[39;00m keys_par2]\n\u001b[1;32m      3\u001b[0m not_in_old \u001b[38;5;241m=\u001b[39m [i \u001b[38;5;28;01mfor\u001b[39;00m i \u001b[38;5;129;01min\u001b[39;00m keys_par2 \u001b[38;5;28;01mif\u001b[39;00m i \u001b[38;5;129;01mnot\u001b[39;00m \u001b[38;5;129;01min\u001b[39;00m par1\u001b[38;5;241m.\u001b[39mkeys()]\n",
      "\u001b[0;31mNameError\u001b[0m: name 'keys_par2' is not defined"
     ]
    }
   ],
   "source": [
    "common = [i for i in par1.keys() if i in keys_par2]\n",
    "not_in_new = [i for i in par1.keys() if i not in keys_par2]\n",
    "not_in_old = [i for i in keys_par2 if i not in par1.keys()]"
   ]
  },
  {
   "cell_type": "code",
   "execution_count": null,
   "id": "087ee4ce-b456-410d-aa4e-0ced433138f1",
   "metadata": {},
   "outputs": [],
   "source": [
    "# len(common),len(not_in_new),len(not_in_old)"
   ]
  },
  {
   "cell_type": "code",
   "execution_count": null,
   "id": "fbfaa7f3-a037-4f04-80c8-2fa466515e2b",
   "metadata": {
    "scrolled": true
   },
   "outputs": [],
   "source": [
    "# f_print_dict_struct(par2,0)"
   ]
  },
  {
   "cell_type": "code",
   "execution_count": null,
   "id": "e52357d3-08d3-47f7-aba8-89d0ddeb81a4",
   "metadata": {},
   "outputs": [],
   "source": []
  },
  {
   "cell_type": "markdown",
   "id": "5feb739d-f2ab-4747-bd53-aa0b09496bc7",
   "metadata": {
    "jp-MarkdownHeadingCollapsed": true
   },
   "source": [
    "### Modules"
   ]
  },
  {
   "cell_type": "code",
   "execution_count": null,
   "id": "ec641165-6365-48d0-8565-605dd20ca3b7",
   "metadata": {
    "tags": []
   },
   "outputs": [],
   "source": [
    "def f_collisions(old_gk_dict,new_gk_dict):\n",
    "    ''' conversion for key: collisions '''\n",
    "\n",
    "    main_key='collisions'\n",
    "    old_gk,new_gk=old_gk_dict[main_key],new_gk_dict[main_key]\n",
    "    \n",
    "    dict1={}\n",
    "    for key in ['max_repr_length','version']: \n",
    "        dict1[key] = new_gk[key]\n",
    "    \n",
    "    dict1['collisionality_norm']=old_gk['collisionality_norm']\n",
    "    \n",
    "    return dict1\n",
    "\n",
    "def f_flux_surface(old_gk_dict,new_gk_dict):\n",
    "    ''' conversion for key: flux_surface '''\n",
    "\n",
    "    main_key='flux_surface'\n",
    "    old_gk,new_gk=old_gk_dict[main_key],new_gk_dict[main_key]\n",
    "    \n",
    "    dict1={}\n",
    "    ## Old keys not present \n",
    "    keys = ['triangularity_lower', 'triangularity_upper']\n",
    "    \n",
    "    ## New keys not present in old \n",
    "    keys = ['delongation_dr_minor_norm', 'dgeometric_axis_r_dr_minor', 'dgeometric_axis_z_dr_minor', 'max_repr_length', 'version']\n",
    "    for key in keys:\n",
    "        dict1[key] = new_gk[key]\n",
    "    \n",
    "    ## Common keys \n",
    "    common_keys = ['b_field_tor_sign', 'dc_dr_minor_norm', 'ds_dr_minor_norm', 'elongation', 'ip_sign', 'magnetic_shear_r_minor', 'pressure_gradient_norm', 'q', 'r_minor_norm', 'shape_coefficients_c', 'shape_coefficients_s']\n",
    "    \n",
    "    for key in common_keys:\n",
    "        dict1[key] = old_gk[key]\n",
    "        \n",
    "    return dict1\n",
    "\n",
    "def f_species_all(old_gk_dict,new_gk_dict):\n",
    "    ''' conversion for key: species_all '''\n",
    "    \n",
    "    main_key='species_all'\n",
    "    old_gk,new_gk=old_gk_dict[main_key],new_gk_dict[main_key]\n",
    "    \n",
    "    dict1={}\n",
    "    ## Old keys not present \n",
    "    keys =  ['debye_length_reference', 'zeff'] \n",
    "    \n",
    "    ## New keys not present in old \n",
    "    keys = ['angle_pol', 'debye_length_norm', 'max_repr_length', 'version']\n",
    "    for key in keys:\n",
    "        dict1[key] = new_gk[key]\n",
    "    \n",
    "    ## Common keys \n",
    "    common_keys = ['beta_reference', 'shearing_rate_norm', 'velocity_tor_norm'] \n",
    "\n",
    "    for key in common_keys:\n",
    "        dict1[key] = old_gk[key]\n",
    "        \n",
    "    return dict1\n",
    "\n",
    "def f_species(old_gk_dict, new_gk_dict):\n",
    "    ''' conversion for key: species '''\n",
    "\n",
    "    main_key='species'\n",
    "    old_gk,new_gk=old_gk_dict[main_key][0],new_gk_dict[main_key][0]\n",
    "\n",
    "    dict1={}\n",
    "    ## Old keys not present \n",
    "    keys =  ['name'] \n",
    "\n",
    "    ## New keys not present in old \n",
    "    keys = ['max_repr_length', 'potential_energy_gradient_norm', 'potential_energy_norm', 'version']\n",
    "    for key in keys:\n",
    "        dict1[key] = new_gk[key]\n",
    "\n",
    "    ## Common keys \n",
    "    common_keys = ['charge_norm', 'density_log_gradient_norm', 'density_norm', 'mass_norm', 'temperature_log_gradient_norm', 'temperature_norm', 'velocity_tor_gradient_norm'] \n",
    "\n",
    "    for key in common_keys:\n",
    "        dict1[key] = old_gk[key]\n",
    "    \n",
    "    return [dict1]\n",
    "\n",
    "def f_ids_properties(old_gk_dict,new_gk_dict):\n",
    "    ''' conversion for key: ids_properties '''\n",
    "\n",
    "    main_key='ids_properties'\n",
    "    old_gk,new_gk=old_gk_dict[main_key],new_gk_dict[main_key]\n",
    "    \n",
    "    dict1={}\n",
    "    ## Old keys not present \n",
    "    keys = ['creator', 'date'] \n",
    "    \n",
    "    ## New keys not present in old \n",
    "    keys = ['creation_date', 'homogeneous_time', 'max_repr_length', 'name', 'occurrence_type', 'provenance', 'provider', 'version']\n",
    "    for key in keys:\n",
    "        dict1[key] = new_gk[key]\n",
    "    \n",
    "    ## Common keys \n",
    "    common_keys = ['comment'] \n",
    "\n",
    "    for key in common_keys[:]:\n",
    "        dict1[key] = old_gk[key]\n",
    "        \n",
    "    ## Special fixes\n",
    "    dict1['creation_data']=old_gk['date']\n",
    "    dict1['provider'] = 'manual'\n",
    "    \n",
    "    ## Note: 'creator' not used. Should it be stored in 'name' ? \n",
    "    # dict1['name'] = old_gk['creator']\n",
    "\n",
    "    return dict1\n",
    "\n",
    "def f_model(old_gk_dict,new_gk_dict):\n",
    "    ''' conversion for key: model '''\n",
    "\n",
    "    ## To Do : Confirm what NoneType means for the True case in the new schema\n",
    "    \n",
    "    main_key='model'\n",
    "    old_gk,new_gk=old_gk_dict[main_key],new_gk_dict[main_key]\n",
    "    \n",
    "    dict1={}\n",
    "    ## Old keys not present \n",
    "    keys =  ['collision_ei_only','initial_value_run', 'non_linear_run', 'time_interval_norm']\n",
    "    \n",
    "    ## New keys not present in old \n",
    "    keys = ['adiabatic_electrons', 'include_coriolis_drift']\n",
    "    for key in keys: \n",
    "        dict1[key] = None\n",
    "    \n",
    "    keys = ['max_repr_length', 'version']\n",
    "    for key in keys:\n",
    "        dict1[key] = new_gk[key]\n",
    "    \n",
    "    ## Common keys \n",
    "    common_keys = ['include_a_field_parallel', 'include_b_field_parallel']\n",
    "    for key in common_keys: # Integer dtype\n",
    "        dict1[key] = 1 if old_gk[key] else 0\n",
    "\n",
    "    common_keys = ['include_centrifugal_effects', 'include_full_curvature_drift'] \n",
    "    for key in common_keys: ## None type\n",
    "        dict1[key] = 1 if old_gk[key] else None\n",
    "        \n",
    "    ## common keys with slight modification in key name\n",
    "    collision_suffix = ['energy_conservation', 'finite_larmor_radius', 'momentum_conservation', 'pitch_only']\n",
    "    for suffix in collision_suffix: # old : collision_ (Bool) , new: collisions_ (None type)\n",
    "        dict1['collisions_'+suffix] = 1 if gk_dict[main_key]['collision_'+suffix] else None \n",
    "        \n",
    "    return dict1\n",
    "\n",
    "# f_collisions(gk_dict,GK_dict)\n",
    "# f_flux_surface(gk_dict,GK_dict)\n",
    "# f_species_all(gk_dict,GK_dict)\n",
    "# f_species(gk_dict,GK_dict)\n",
    "# f_ids_properties(gk_dict,GK_dict)\n",
    "f_model(gk_dict,GK_dict)\n",
    "\n"
   ]
  }
 ],
 "metadata": {
  "jpcodetoc-autonumbering": false,
  "jpcodetoc-showcode": false,
  "jpcodetoc-showmarkdowntxt": false,
  "kernelspec": {
   "display_name": "mlpy38",
   "language": "python",
   "name": "mlpy38"
  },
  "language_info": {
   "codemirror_mode": {
    "name": "ipython",
    "version": 3
   },
   "file_extension": ".py",
   "mimetype": "text/x-python",
   "name": "python",
   "nbconvert_exporter": "python",
   "pygments_lexer": "ipython3",
   "version": "3.8.19"
  }
 },
 "nbformat": 4,
 "nbformat_minor": 5
}
